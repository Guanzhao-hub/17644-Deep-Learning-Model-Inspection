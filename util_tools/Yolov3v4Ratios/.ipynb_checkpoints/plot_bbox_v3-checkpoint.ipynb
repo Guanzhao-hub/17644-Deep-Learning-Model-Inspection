{
 "cells": [
  {
   "cell_type": "code",
   "execution_count": 1,
   "id": "1449a4af",
   "metadata": {},
   "outputs": [],
   "source": [
    "import json\n",
    "import numpy as np\n",
    "import matplotlib.pyplot as plt\n",
    "import seaborn as sns"
   ]
  },
  {
   "cell_type": "code",
   "execution_count": 2,
   "id": "e67f3dc3",
   "metadata": {},
   "outputs": [],
   "source": [
    "path = r\"./Mask_Predictions/mask_predictions_03.json\"\n",
    "json_dict = dict()\n",
    "with open(path,\"r\") as f:\n",
    "    json_dict = json.load(f)\n",
    "\n",
    "axis = []\n",
    "\n",
    "for term in json_dict:\n",
    "    one_set_axis = [float(num) for num in term[\"bbox\"].split()]\n",
    "    axis.append(one_set_axis)"
   ]
  },
  {
   "cell_type": "code",
   "execution_count": 3,
   "id": "32668159",
   "metadata": {},
   "outputs": [],
   "source": [
    "axis = np.array(axis)"
   ]
  },
  {
   "cell_type": "code",
   "execution_count": 4,
   "id": "6469b1c9",
   "metadata": {},
   "outputs": [
    {
     "data": {
      "text/plain": [
       "array([[  0.,  43.,  18.,  65.],\n",
       "       [307., 178., 345., 224.],\n",
       "       [ 71.,  72.,  89.,  88.],\n",
       "       [323.,  90., 360., 143.],\n",
       "       [118.,  69., 135.,  89.],\n",
       "       [330.,  30., 365.,  67.],\n",
       "       [163.,  74., 184.,  97.],\n",
       "       [159.,  48., 192.,  89.],\n",
       "       [230.,  61., 248.,  79.],\n",
       "       [226.,  53., 241.,  72.],\n",
       "       [224.,  37., 258.,  76.],\n",
       "       [319.,  34., 352.,  69.],\n",
       "       [141.,  73., 172., 115.],\n",
       "       [ 77., 322., 117., 367.],\n",
       "       [ 81.,  55., 110.,  91.],\n",
       "       [289.,  59., 309.,  81.],\n",
       "       [366.,  27., 398.,  63.],\n",
       "       [335.,  69., 353.,  88.],\n",
       "       [274.,  98., 300., 126.],\n",
       "       [ 70.,  50.,  89.,  73.],\n",
       "       [263.,  43., 279.,  59.],\n",
       "       [ 19., 111.,  75., 169.],\n",
       "       [154.,  57., 175.,  80.],\n",
       "       [350.,  50., 369.,  71.],\n",
       "       [251.,  95., 290., 137.],\n",
       "       [ 52.,  51.,  72.,  75.],\n",
       "       [ 69.,  40., 100.,  69.],\n",
       "       [291.,  58., 311.,  79.],\n",
       "       [133.,  81., 190., 145.],\n",
       "       [148., 194., 236., 315.],\n",
       "       [288.,  28., 301.,  41.],\n",
       "       [ 74., 267., 155., 384.],\n",
       "       [300., 159., 352., 212.],\n",
       "       [148., 154., 197., 209.],\n",
       "       [271.,  57., 289.,  74.],\n",
       "       [349.,  35., 365.,  58.],\n",
       "       [143.,  70., 195., 132.],\n",
       "       [240., 193., 291., 245.],\n",
       "       [100.,  98., 179., 173.],\n",
       "       [236.,  34., 262.,  68.],\n",
       "       [ 43., 227., 140., 345.],\n",
       "       [159.,  18., 196.,  54.],\n",
       "       [313.,  66., 333.,  88.],\n",
       "       [191., 103., 228., 146.],\n",
       "       [187.,  57., 209.,  79.],\n",
       "       [367.,  70., 393.,  97.],\n",
       "       [ 58., 139., 126., 215.],\n",
       "       [ 96.,  61., 111.,  78.],\n",
       "       [254.,  95., 385., 255.],\n",
       "       [257., 120., 336., 205.],\n",
       "       [ 98., 270., 191., 382.],\n",
       "       [ 73., 181., 168., 292.],\n",
       "       [235.,  54., 255.,  76.],\n",
       "       [205.,  45., 220.,  61.],\n",
       "       [154.,  98., 219., 173.],\n",
       "       [191.,  66., 215.,  91.],\n",
       "       [154.,  48., 175.,  73.],\n",
       "       [ 70., 184., 175., 317.],\n",
       "       [185., 100., 224., 144.],\n",
       "       [306.,  74., 373., 137.],\n",
       "       [ 27.,  54.,  44.,  70.],\n",
       "       [249., 106., 275., 138.],\n",
       "       [117.,  52., 158.,  92.],\n",
       "       [295.,  59., 314.,  82.],\n",
       "       [ 89.,  57., 152., 124.],\n",
       "       [117.,  65., 138.,  88.],\n",
       "       [230.,  50., 244.,  66.],\n",
       "       [ 18.,  73.,  40.,  93.],\n",
       "       [297.,  61., 312.,  83.],\n",
       "       [ 26.,  79.,  52., 106.],\n",
       "       [199., 189., 228., 232.],\n",
       "       [ 76., 104., 108., 140.],\n",
       "       [ 87.,  37., 114.,  62.],\n",
       "       [177., 104., 201., 126.],\n",
       "       [213.,  74., 233.,  97.],\n",
       "       [ 33.,  75.,  45.,  95.],\n",
       "       [383.,  50., 393.,  59.],\n",
       "       [266.,  11., 283.,  30.],\n",
       "       [251.,  30., 267.,  45.],\n",
       "       [223.,  35., 236.,  47.],\n",
       "       [193.,  88., 213., 110.],\n",
       "       [346.,  31., 357.,  43.],\n",
       "       [119.,  55., 130.,  66.],\n",
       "       [180.,  14., 191.,  25.],\n",
       "       [256.,  63., 267.,  76.],\n",
       "       [ 66.,  58.,  78.,  71.],\n",
       "       [355.,  56., 363.,  68.],\n",
       "       [154.,  60., 170.,  80.],\n",
       "       [116., 139., 169., 196.],\n",
       "       [363.,  61., 370.,  73.],\n",
       "       [359.,  26., 369.,  37.],\n",
       "       [192.,  15., 202.,  25.],\n",
       "       [222.,  23., 234.,  34.],\n",
       "       [187.,  67., 206.,  85.],\n",
       "       [389.,  50., 397.,  60.],\n",
       "       [182.,  71., 190.,  88.],\n",
       "       [360.,   1., 370.,  13.],\n",
       "       [389.,   1., 399.,  12.],\n",
       "       [169.,  16., 179.,  27.],\n",
       "       [293.,  60., 304.,  79.],\n",
       "       [106.,  47., 116.,  62.],\n",
       "       [193.,  40., 202.,  52.],\n",
       "       [ 92., 161., 166., 246.],\n",
       "       [220., 176., 258., 227.],\n",
       "       [164., 337., 191., 384.],\n",
       "       [308., 214., 345., 247.],\n",
       "       [161.,  16., 171.,  27.],\n",
       "       [113.,  47., 121.,  59.],\n",
       "       [394.,  46., 399.,  57.],\n",
       "       [274.,  28., 283.,  43.],\n",
       "       [273.,  78., 285.,  92.],\n",
       "       [204., 214., 239., 270.],\n",
       "       [197.,  44., 206.,  57.],\n",
       "       [  6.,   0.,  18.,   3.],\n",
       "       [ 24., 140.,  41., 160.],\n",
       "       [ 72.,  60., 100.,  99.],\n",
       "       [204.,  33., 217.,  43.],\n",
       "       [ 34.,  66.,  45.,  81.],\n",
       "       [177.,  10., 187.,  22.],\n",
       "       [212.,   2., 222.,  12.],\n",
       "       [ 91.,  57., 101.,  68.],\n",
       "       [216.,  31., 225.,  43.],\n",
       "       [208., 179., 237., 213.],\n",
       "       [191.,  73., 397., 247.],\n",
       "       [191.,  23., 201.,  34.],\n",
       "       [  0.,  84., 192., 262.],\n",
       "       [ 43.,  46., 233., 233.],\n",
       "       [  0., 317.,  36., 387.],\n",
       "       [289.,  56., 299.,  73.],\n",
       "       [382.,   0., 396.,   5.],\n",
       "       [338.,  49., 347.,  60.],\n",
       "       [274.,   1., 296.,  19.],\n",
       "       [349., 120., 398., 189.],\n",
       "       [  5.,   1.,  21.,  16.],\n",
       "       [251.,  17., 266.,  39.],\n",
       "       [221.,   2., 232.,  12.],\n",
       "       [286.,  14., 300.,  39.],\n",
       "       [279.,  27., 288.,  42.],\n",
       "       [193.,  34., 437., 333.],\n",
       "       [360.,  47., 372.,  57.],\n",
       "       [116.,  51., 126.,  62.],\n",
       "       [288.,  19., 297.,  33.],\n",
       "       [267.,  72., 278.,  83.],\n",
       "       [  4.,  93.,  16., 108.],\n",
       "       [246.,  85., 256.,  98.],\n",
       "       [220.,   0., 228.,   7.],\n",
       "       [103., 170., 130., 209.]])"
      ]
     },
     "execution_count": 4,
     "metadata": {},
     "output_type": "execute_result"
    }
   ],
   "source": [
    "axis"
   ]
  },
  {
   "cell_type": "code",
   "execution_count": 5,
   "id": "4b81685c",
   "metadata": {},
   "outputs": [],
   "source": [
    "length_height_ratios = []\n",
    "sizes = []\n",
    "# here I use length/height as the ratio\n",
    "for row in axis:\n",
    "    length_height_ratios.append((row[2] - row[0])/(row[3]-row[1]))\n",
    "    sizes.append((row[2] - row[0])*(row[3]-row[1]))"
   ]
  },
  {
   "cell_type": "code",
   "execution_count": 6,
   "id": "369b6e3b",
   "metadata": {},
   "outputs": [],
   "source": [
    "avg_ratio = np.mean(length_height_ratios)"
   ]
  },
  {
   "cell_type": "code",
   "execution_count": 10,
   "id": "065cbca3",
   "metadata": {},
   "outputs": [
    {
     "data": {
      "image/png": "[encoded data removed]",
      "text/plain": [
       "<Figure size 720x432 with 1 Axes>"
      ]
     },
     "metadata": {
      "needs_background": "light"
     },
     "output_type": "display_data"
    }
   ],
   "source": [
    "plt.figure(figsize = (10, 6))\n",
    "plt.hist(length_height_ratios, bins = 40)\n",
    "plt.xlabel(\"Width-height Ratio of BBOX\", fontsize = 15)\n",
    "plt.ylabel(\"Frequency\", fontsize = 15)\n",
    "plt.title(\"Distribution of Width-height Ratio over test set\", fontsize = 15)\n",
    "plt.axvline(x=avg_ratio, c = \"r\")\n",
    "plt.savefig(\"./result_yolov3/width_height_ratio_03.jpg\",dpi = 300, bbox_inches = \"tight\")"
   ]
  },
  {
   "cell_type": "code",
   "execution_count": 11,
   "id": "16ea4f3b",
   "metadata": {
    "scrolled": true
   },
   "outputs": [
    {
     "data": {
      "image/png": "[encoded data removed]",
      "text/plain": [
       "<Figure size 720x432 with 1 Axes>"
      ]
     },
     "metadata": {
      "needs_background": "light"
     },
     "output_type": "display_data"
    }
   ],
   "source": [
    "plt.figure(figsize = (10,6))\n",
    "plt.hist(sizes)\n",
    "plt.xlabel(\"Pixel Size of BBOX\", fontsize = 15)\n",
    "plt.ylabel(\"Frequency\", fontsize = 15)\n",
    "plt.title(\"Distribution of BBOX size over test set\", fontsize = 15)\n",
    "plt.axvline(x=np.mean(sizes), c = \"r\")\n",
    "plt.savefig(r\"C:\\Users\\mingy\\Desktop\\bbox_size_v3.jpg\",dpi = 300, bbox_inches = \"tight\")"
   ]
  },
  {
   "cell_type": "code",
   "execution_count": null,
   "id": "8d0781ee",
   "metadata": {},
   "outputs": [],
   "source": [
    "sns.distplot(length_height_ratios, \n",
    "             hist=True, \n",
    "             kde=True, \n",
    "             color = 'darkblue',  \n",
    "             bins = 10,\n",
    "             hist_kws={'edgecolor':'black'},\n",
    "             kde_kws={'linewidth': 3})"
   ]
  },
  {
   "cell_type": "code",
   "execution_count": null,
   "id": "1a1580d5",
   "metadata": {},
   "outputs": [],
   "source": [
    "sns.distplot(sizes, \n",
    "             hist=True, \n",
    "             kde=True, \n",
    "             color = 'darkblue',  \n",
    "             bins = 10,\n",
    "             hist_kws={'edgecolor':'black'},\n",
    "             kde_kws={'linewidth': 3})"
   ]
  },
  {
   "cell_type": "code",
   "execution_count": null,
   "id": "b021cebe",
   "metadata": {},
   "outputs": [],
   "source": []
  }
 ],
 "metadata": {
  "kernelspec": {
   "display_name": "Python 3 (ipykernel)",
   "language": "python",
   "name": "python3"
  },
  "language_info": {
   "codemirror_mode": {
    "name": "ipython",
    "version": 3
   },
   "file_extension": ".py",
   "mimetype": "text/x-python",
   "name": "python",
   "nbconvert_exporter": "python",
   "pygments_lexer": "ipython3",
   "version": "3.8.3"
  }
 },
 "nbformat": 4,
 "nbformat_minor": 5
}
