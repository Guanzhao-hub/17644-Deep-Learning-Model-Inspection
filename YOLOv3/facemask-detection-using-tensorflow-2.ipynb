{
 "cells": [
  {
   "cell_type": "markdown",
   "metadata": {},
   "source": [
    "#### 1. Motivation<br>\n",
    "Covid-19 started in November 2019 and started to spread across the world killing 3.74 million people. To curb the spread were to wear masks and maintain 6 feet distance. Although vaccines are available now and the cases have come down in some few countries, many countries are still struggling. In order to aid in stopping the spread and identify individuals not following the safety policies, we aim to build an Object Detection and Convolution Neural Network based face mask and social distance detection system. The dataset to be used contains numerous images of instances where people are with and without mask and the model aims to identify people violating safety policies and flag the images with violation concerns. <br>\n"
   ]
  },
  {
   "cell_type": "code",
   "execution_count": 11,
   "metadata": {},
   "outputs": [
    {
     "data": {
      "text/plain": [
       "'2.8.0'"
      ]
     },
     "execution_count": 11,
     "metadata": {},
     "output_type": "execute_result"
    }
   ],
   "source": [
    "tf.__version__"
   ]
  },
  {
   "cell_type": "markdown",
   "metadata": {},
   "source": [
    "**Objective:**\n",
    "\n",
    "Identiying if a person is wearing facemask or not and violating any social distance norms."
   ]
  },
  {
   "cell_type": "code",
   "execution_count": 13,
   "metadata": {
    "execution": {
     "iopub.execute_input": "2021-06-14T12:46:15.306739Z",
     "iopub.status.busy": "2021-06-14T12:46:15.306304Z",
     "iopub.status.idle": "2021-06-14T12:46:15.31295Z",
     "shell.execute_reply": "2021-06-14T12:46:15.311734Z",
     "shell.execute_reply.started": "2021-06-14T12:46:15.306698Z"
    }
   },
   "outputs": [],
   "source": [
    "## Importing libraries\n",
    "import pandas as pd\n",
    "import numpy as np\n",
    "import cv2\n",
    "import os\n",
    "import glob\n",
    "from scipy.spatial import distance\n",
    "from sklearn.model_selection import train_test_split\n",
    "from sklearn.metrics import classification_report, confusion_matrix\n",
    "\n",
    "import tensorflow as tf\n",
    "from tensorflow.python.keras import Sequential, models\n",
    "from tensorflow.python.keras.layers import Flatten, Dense, Conv2D, MaxPool2D\n",
    "from keras.preprocessing.image import ImageDataGenerator\n",
    "\n",
    "import matplotlib.pyplot as plt\n",
    "import seaborn as sns"
   ]
  },
  {
   "cell_type": "markdown",
   "metadata": {},
   "source": [
    "### Getting the directories, Path and Data"
   ]
  },
  {
   "cell_type": "code",
   "execution_count": null,
   "metadata": {
    "execution": {
     "iopub.execute_input": "2021-06-14T12:46:15.314972Z",
     "iopub.status.busy": "2021-06-14T12:46:15.31441Z",
     "iopub.status.idle": "2021-06-14T12:46:15.329572Z",
     "shell.execute_reply": "2021-06-14T12:46:15.328261Z",
     "shell.execute_reply.started": "2021-06-14T12:46:15.314932Z"
    }
   },
   "outputs": [],
   "source": [
    "path = \"./Face Mask Dataset/\""
   ]
  },
  {
   "cell_type": "code",
   "execution_count": null,
   "metadata": {
    "execution": {
     "iopub.execute_input": "2021-06-14T12:46:15.332421Z",
     "iopub.status.busy": "2021-06-14T12:46:15.331634Z",
     "iopub.status.idle": "2021-06-14T12:46:15.401284Z",
     "shell.execute_reply": "2021-06-14T12:46:15.399964Z",
     "shell.execute_reply.started": "2021-06-14T12:46:15.332381Z"
    }
   },
   "outputs": [],
   "source": [
    "dataset = {\n",
    "    \"image_path\": [],\n",
    "    \"mask_status\": [],\n",
    "    \"where\": []\n",
    "}\n",
    "\n",
    "for where in os.listdir(path):\n",
    "    for status in os.listdir(path+\"/\"+where):\n",
    "        for image in glob.glob(path+where+\"/\"+status+\"/\"+\"*.png\"):\n",
    "            dataset[\"image_path\"].append(image)\n",
    "            dataset[\"mask_status\"].append(status)\n",
    "            dataset[\"where\"].append(where)\n",
    "            \n",
    "dataset = pd.DataFrame(dataset)\n",
    "dataset.head()"
   ]
  },
  {
   "cell_type": "markdown",
   "metadata": {},
   "source": [
    "### Face Detection using HAAR Cascade Algorithm"
   ]
  },
  {
   "cell_type": "code",
   "execution_count": null,
   "metadata": {
    "execution": {
     "iopub.execute_input": "2021-06-14T12:46:15.40334Z",
     "iopub.status.busy": "2021-06-14T12:46:15.402988Z",
     "iopub.status.idle": "2021-06-14T12:46:15.974508Z",
     "shell.execute_reply": "2021-06-14T12:46:15.973402Z",
     "shell.execute_reply.started": "2021-06-14T12:46:15.403271Z"
    }
   },
   "outputs": [],
   "source": [
    "## Choosing a random image to detect the face in the image\n",
    "face_model = cv2.CascadeClassifier('../input/haarcascades/haarcascade_frontalface_default.xml')\n",
    "\n",
    "## Choosing the image from the directory\n",
    "img = cv2.imread(\"../input/face-mask-detection/images/maksssksksss352.png\")\n",
    "\n",
    "## Converting the image to grayscale to apply haarcascade algorithm\n",
    "img = cv2.cvtColor(img, cv2.IMREAD_GRAYSCALE)\n",
    "\n",
    "## Returns the x, y, w, h co-ordinates as numpy arrays for all the detected faces\n",
    "detected_face = face_model.detectMultiScale(img)\n",
    "\n",
    "## Converting from grayscale to colored image\n",
    "output_img = cv2.cvtColor(img, cv2.COLOR_RGB2BGR)\n",
    "\n",
    "## Drawing rectangle box around the faces in the image\n",
    "for (x, y, w, h) in detected_face:\n",
    "    cv2.rectangle(output_img, (x,y), (x+w, y+h), (0, 0, 200), 2)\n",
    "    \n",
    "## Displaying the image\n",
    "plt.figure(figsize = (15, 15))\n",
    "plt.imshow(output_img)"
   ]
  },
  {
   "cell_type": "markdown",
   "metadata": {},
   "source": [
    "##### Drawbacks:"
   ]
  },
  {
   "cell_type": "markdown",
   "metadata": {},
   "source": [
    "We can observe that Default face detection Haar Cascading that we choose doesnt do a good job in identifying the faces. (Will replace this with other algorithms)"
   ]
  },
  {
   "cell_type": "markdown",
   "metadata": {},
   "source": [
    "### Detecting Social Distance"
   ]
  },
  {
   "cell_type": "code",
   "execution_count": null,
   "metadata": {
    "execution": {
     "iopub.execute_input": "2021-06-14T12:46:15.976231Z",
     "iopub.status.busy": "2021-06-14T12:46:15.975903Z",
     "iopub.status.idle": "2021-06-14T12:46:16.277541Z",
     "shell.execute_reply": "2021-06-14T12:46:16.276096Z",
     "shell.execute_reply.started": "2021-06-14T12:46:15.976198Z"
    }
   },
   "outputs": [],
   "source": [
    "if len(detected_face) >= 2:\n",
    "    # Track to check for violation of social distance violation\n",
    "    label = [0 for i in range(len(detected_face))]\n",
    "    \n",
    "    # Getting the distance from one image to rest of the image  \n",
    "    for i in range(len(detected_face)-1):\n",
    "        for j in range(i+1, len(detected_face)):\n",
    "            # [:2] gets only x, y co ordinates\n",
    "            dist = distance.euclidean(detected_face[i][:2], detected_face[j][:2])\n",
    "            # Checking if the distance is less than 6 feet \n",
    "            if dist < 130:\n",
    "                # If less than 6 feet, flag the respective images\n",
    "                label[i] = 1\n",
    "                label[j] = 1\n",
    "    \n",
    "    # Coloring the image\n",
    "    new_image = cv2.cvtColor(img, cv2.COLOR_RGB2BGR)\n",
    "    \n",
    "    # Coloring the rectangle around the image\n",
    "    for i in range(len(detected_face)):\n",
    "        (x, y, w, h) = detected_face[i]\n",
    "        if label[i] == 1:\n",
    "            # If its 1, then the distance is less than 6 feet so mark red\n",
    "            cv2.rectangle(new_image, (x, y), (x+w, y+h), (255, 0, 0), 2)\n",
    "        else:\n",
    "            # If not mark green \n",
    "            cv2.rectangle(new_image, (x, y), (x+w, y+h), (0, 255, 0), 2)\n",
    "         \n",
    "    plt.figure(figsize = (10, 10))\n",
    "    plt.imshow(new_image)"
   ]
  },
  {
   "cell_type": "markdown",
   "metadata": {},
   "source": [
    "Note: Red showing that they are not 6 feet apart. Green shows that they are 6 feet apart"
   ]
  },
  {
   "cell_type": "code",
   "execution_count": null,
   "metadata": {},
   "outputs": [],
   "source": []
  },
  {
   "cell_type": "markdown",
   "metadata": {},
   "source": [
    "### Visualisations"
   ]
  },
  {
   "cell_type": "code",
   "execution_count": null,
   "metadata": {
    "execution": {
     "iopub.execute_input": "2021-06-14T12:46:16.279433Z",
     "iopub.status.busy": "2021-06-14T12:46:16.27908Z",
     "iopub.status.idle": "2021-06-14T12:46:16.41354Z",
     "shell.execute_reply": "2021-06-14T12:46:16.41211Z",
     "shell.execute_reply.started": "2021-06-14T12:46:16.279398Z"
    }
   },
   "outputs": [],
   "source": [
    "## Checking for total number of images in the dataset\n",
    "print(f\"With Mask:\", dataset.value_counts(\"mask_status\")[0])\n",
    "print(f\"Without Mask:\", dataset.value_counts(\"mask_status\")[1])\n",
    "\n",
    "## Plotting the numbers\n",
    "sns.countplot(x = dataset[\"mask_status\"])"
   ]
  },
  {
   "cell_type": "code",
   "execution_count": null,
   "metadata": {
    "execution": {
     "iopub.execute_input": "2021-06-14T12:46:16.415782Z",
     "iopub.status.busy": "2021-06-14T12:46:16.415415Z",
     "iopub.status.idle": "2021-06-14T12:46:17.005473Z",
     "shell.execute_reply": "2021-06-14T12:46:17.004575Z",
     "shell.execute_reply.started": "2021-06-14T12:46:16.415747Z"
    }
   },
   "outputs": [],
   "source": [
    "plt.figure(figsize = (15, 10))\n",
    "\n",
    "for i in range(9):\n",
    "    random = np.random.randint(1, len(dataset))\n",
    "    plt.subplot(3, 3, i+1)\n",
    "    plt.imshow(cv2.imread(dataset.loc[random,\"image_path\"]))\n",
    "    plt.title(dataset.loc[random,\"mask_status\"], size = 15)\n",
    "    plt.xticks([])\n",
    "    plt.yticks([])\n",
    "    \n",
    "plt.show()"
   ]
  },
  {
   "cell_type": "code",
   "execution_count": null,
   "metadata": {
    "execution": {
     "iopub.execute_input": "2021-06-14T12:46:17.008406Z",
     "iopub.status.busy": "2021-06-14T12:46:17.008074Z",
     "iopub.status.idle": "2021-06-14T12:46:17.032352Z",
     "shell.execute_reply": "2021-06-14T12:46:17.030968Z",
     "shell.execute_reply.started": "2021-06-14T12:46:17.008372Z"
    }
   },
   "outputs": [],
   "source": [
    "## Splitting train test and Validation Dataset\n",
    "train_df = dataset[dataset[\"where\"] == \"Train\"]\n",
    "test_df = dataset[dataset[\"where\"] == \"Test\"]\n",
    "valid_df = dataset[dataset[\"where\"] == \"Validation\"]\n",
    "\n",
    "print(train_df.head(10))\n",
    "\n",
    "## Shuffling the dataset \n",
    "train_df = train_df.sample(frac = 1)\n",
    "test_df = test_df.sample(frac = 1)\n",
    "valid_df = valid_df.sample(frac = 1)\n",
    "\n",
    "print(\"\\n After Shuffling \\n\")\n",
    "print(train_df.head(10))"
   ]
  },
  {
   "cell_type": "markdown",
   "metadata": {},
   "source": [
    "### Visualising the distribution of train test and validation set"
   ]
  },
  {
   "cell_type": "code",
   "execution_count": null,
   "metadata": {
    "execution": {
     "iopub.execute_input": "2021-06-14T12:46:17.035098Z",
     "iopub.status.busy": "2021-06-14T12:46:17.034745Z",
     "iopub.status.idle": "2021-06-14T12:46:17.691416Z",
     "shell.execute_reply": "2021-06-14T12:46:17.690468Z",
     "shell.execute_reply.started": "2021-06-14T12:46:17.035063Z"
    }
   },
   "outputs": [],
   "source": [
    "plt.figure(figsize = (15, 5))\n",
    "plt.subplot(1, 3, 1)\n",
    "sns.countplot(x = train_df[\"mask_status\"])\n",
    "plt.title(\"Training Dataset\", size = 10)\n",
    "\n",
    "plt.subplot(1, 3, 2)\n",
    "sns.countplot(x = test_df[\"mask_status\"])\n",
    "plt.title(\"Test Dataset\", size = 10)\n",
    "\n",
    "plt.subplot(1, 3, 3)\n",
    "sns.countplot(x = valid_df[\"mask_status\"])\n",
    "plt.title(\"Validation Dataset\", size = 10)\n",
    "\n",
    "plt.show()"
   ]
  },
  {
   "cell_type": "code",
   "execution_count": null,
   "metadata": {
    "execution": {
     "iopub.execute_input": "2021-06-14T12:46:17.692931Z",
     "iopub.status.busy": "2021-06-14T12:46:17.692662Z",
     "iopub.status.idle": "2021-06-14T12:46:17.70779Z",
     "shell.execute_reply": "2021-06-14T12:46:17.706699Z",
     "shell.execute_reply.started": "2021-06-14T12:46:17.692902Z"
    }
   },
   "outputs": [],
   "source": [
    "train_df = train_df.reset_index().drop(\"index\", axis = 1)\n",
    "train_df.head()"
   ]
  },
  {
   "cell_type": "code",
   "execution_count": null,
   "metadata": {
    "execution": {
     "iopub.execute_input": "2021-06-14T12:46:17.709876Z",
     "iopub.status.busy": "2021-06-14T12:46:17.709428Z",
     "iopub.status.idle": "2021-06-14T12:46:47.739387Z",
     "shell.execute_reply": "2021-06-14T12:46:47.738354Z",
     "shell.execute_reply.started": "2021-06-14T12:46:17.709833Z"
    }
   },
   "outputs": [],
   "source": [
    "## Reading all the image into a list and changing the size of the image to (150,150)\n",
    "data = []\n",
    "image_size = 150\n",
    "\n",
    "for i in range(len(train_df)):\n",
    "    ## Converting the image into grayscale\n",
    "    img_array = cv2.imread(train_df[\"image_path\"][i], cv2.IMREAD_GRAYSCALE)\n",
    "\n",
    "    ## Resizing the array\n",
    "    new_image_array = cv2.resize(img_array, (image_size, image_size))\n",
    "\n",
    "    ##Encoding the image with the label\n",
    "    if train_df[\"mask_status\"][i] == \"WithMask\":\n",
    "        data.append([new_image_array, 1])\n",
    "    else:\n",
    "        data.append([new_image_array, 0])"
   ]
  },
  {
   "cell_type": "code",
   "execution_count": null,
   "metadata": {
    "execution": {
     "iopub.execute_input": "2021-06-14T12:46:47.741021Z",
     "iopub.status.busy": "2021-06-14T12:46:47.740724Z",
     "iopub.status.idle": "2021-06-14T12:46:47.75957Z",
     "shell.execute_reply": "2021-06-14T12:46:47.758645Z",
     "shell.execute_reply.started": "2021-06-14T12:46:47.740989Z"
    }
   },
   "outputs": [],
   "source": [
    "data = np.array(data)"
   ]
  },
  {
   "cell_type": "code",
   "execution_count": null,
   "metadata": {
    "execution": {
     "iopub.execute_input": "2021-06-14T12:46:47.761186Z",
     "iopub.status.busy": "2021-06-14T12:46:47.760736Z",
     "iopub.status.idle": "2021-06-14T12:46:47.777324Z",
     "shell.execute_reply": "2021-06-14T12:46:47.776371Z",
     "shell.execute_reply.started": "2021-06-14T12:46:47.761146Z"
    }
   },
   "outputs": [],
   "source": [
    "data[0][0].shape"
   ]
  },
  {
   "cell_type": "code",
   "execution_count": null,
   "metadata": {
    "execution": {
     "iopub.execute_input": "2021-06-14T12:46:47.779148Z",
     "iopub.status.busy": "2021-06-14T12:46:47.77883Z",
     "iopub.status.idle": "2021-06-14T12:46:47.802063Z",
     "shell.execute_reply": "2021-06-14T12:46:47.800941Z",
     "shell.execute_reply.started": "2021-06-14T12:46:47.779113Z"
    }
   },
   "outputs": [],
   "source": [
    "## Shuffling the data to make sure everything is not in order\n",
    "np.random.shuffle(data)"
   ]
  },
  {
   "cell_type": "code",
   "execution_count": null,
   "metadata": {
    "execution": {
     "iopub.execute_input": "2021-06-14T12:46:47.803739Z",
     "iopub.status.busy": "2021-06-14T12:46:47.803379Z",
     "iopub.status.idle": "2021-06-14T12:46:48.173263Z",
     "shell.execute_reply": "2021-06-14T12:46:48.172417Z",
     "shell.execute_reply.started": "2021-06-14T12:46:47.803705Z"
    }
   },
   "outputs": [],
   "source": [
    "## Looking at the training samples\n",
    "\n",
    "fig, ax = plt.subplots(2, 3, figsize=(10, 10))\n",
    "\n",
    "for row in range(2):\n",
    "    for col in range(3):\n",
    "        image_index = row*100+col\n",
    "        \n",
    "        ax[row, col].axis(\"off\")\n",
    "        ax[row,col].imshow(data[image_index][0], cmap = \"gray\")\n",
    "    \n",
    "        if data[image_index][1] == 0:\n",
    "            ax[row, col].set_title(\"Without Mask\")\n",
    "        else:\n",
    "            ax[row, col].set_title(\"With Mask\")\n",
    "            \n",
    "plt.show()"
   ]
  },
  {
   "cell_type": "code",
   "execution_count": null,
   "metadata": {
    "execution": {
     "iopub.execute_input": "2021-06-14T12:46:48.174877Z",
     "iopub.status.busy": "2021-06-14T12:46:48.174426Z",
     "iopub.status.idle": "2021-06-14T12:46:48.177985Z",
     "shell.execute_reply": "2021-06-14T12:46:48.177334Z",
     "shell.execute_reply.started": "2021-06-14T12:46:48.17483Z"
    }
   },
   "outputs": [],
   "source": [
    "# datagen = ImageDataGenerator(rescale = 1./255)\n",
    "\n",
    "# train_generator=datagen.flow_from_dataframe(\n",
    "# dataframe=train_df,\n",
    "# directory=\"../input\",\n",
    "# x_col=\"image_path\",\n",
    "# y_col=\"mask_status\",\n",
    "# batch_size=80,\n",
    "# seed=42,\n",
    "# shuffle=False,\n",
    "# class_mode=\"binary\",\n",
    "# target_size=(150,150))"
   ]
  },
  {
   "cell_type": "markdown",
   "metadata": {},
   "source": [
    "### Preparing data to be loaded into the Model"
   ]
  },
  {
   "cell_type": "code",
   "execution_count": null,
   "metadata": {
    "execution": {
     "iopub.execute_input": "2021-06-14T12:46:48.179429Z",
     "iopub.status.busy": "2021-06-14T12:46:48.179038Z",
     "iopub.status.idle": "2021-06-14T12:46:48.341748Z",
     "shell.execute_reply": "2021-06-14T12:46:48.340684Z",
     "shell.execute_reply.started": "2021-06-14T12:46:48.179389Z"
    }
   },
   "outputs": [],
   "source": [
    "X = []\n",
    "y = []\n",
    "\n",
    "## Seperating X and y\n",
    "for image in data:\n",
    "    X.append(image[0])\n",
    "    y.append(image[1])\n",
    "    \n",
    "## Converting X and y to numpy array as Tensorflow accepts only numpy arrays\n",
    "X = np.array(X)\n",
    "y = np.array(y)"
   ]
  },
  {
   "cell_type": "code",
   "execution_count": null,
   "metadata": {
    "execution": {
     "iopub.execute_input": "2021-06-14T12:46:48.343522Z",
     "iopub.status.busy": "2021-06-14T12:46:48.343196Z",
     "iopub.status.idle": "2021-06-14T12:46:49.963875Z",
     "shell.execute_reply": "2021-06-14T12:46:49.962754Z",
     "shell.execute_reply.started": "2021-06-14T12:46:48.343486Z"
    }
   },
   "outputs": [],
   "source": [
    "### Normalizing the data\n",
    "X = X/255\n",
    "\n",
    "### Train Test Split\n",
    "X_train, X_val, y_train, y_val = train_test_split(X, y, test_size = 0.2, random_state = 42)"
   ]
  },
  {
   "cell_type": "markdown",
   "metadata": {},
   "source": [
    "### Building the model"
   ]
  },
  {
   "cell_type": "code",
   "execution_count": null,
   "metadata": {
    "execution": {
     "iopub.execute_input": "2021-06-14T12:46:49.96586Z",
     "iopub.status.busy": "2021-06-14T12:46:49.96541Z",
     "iopub.status.idle": "2021-06-14T12:46:49.985517Z",
     "shell.execute_reply": "2021-06-14T12:46:49.984307Z",
     "shell.execute_reply.started": "2021-06-14T12:46:49.965811Z"
    }
   },
   "outputs": [],
   "source": [
    "model = Sequential()\n",
    "model.add(Conv2D(64, (3, 3), activation = \"relu\"))\n",
    "model.add(Conv2D(64, (3, 3), activation = \"relu\"))\n",
    "model.add(MaxPool2D(pool_size=(3, 3)))\n",
    "model.add(Flatten())\n",
    "model.add(Dense(128, activation = \"relu\"))\n",
    "model.add(Dense(1, activation = \"sigmoid\"))\n",
    "# model.summary()"
   ]
  },
  {
   "cell_type": "code",
   "execution_count": null,
   "metadata": {
    "execution": {
     "iopub.execute_input": "2021-06-14T12:46:49.987687Z",
     "iopub.status.busy": "2021-06-14T12:46:49.987134Z",
     "iopub.status.idle": "2021-06-14T12:46:50.000503Z",
     "shell.execute_reply": "2021-06-14T12:46:49.999624Z",
     "shell.execute_reply.started": "2021-06-14T12:46:49.987643Z"
    }
   },
   "outputs": [],
   "source": [
    "model.compile(optimizer='adam',\n",
    "              loss=tf.keras.losses.BinaryCrossentropy(),\n",
    "              metrics=['accuracy'])"
   ]
  },
  {
   "cell_type": "code",
   "execution_count": null,
   "metadata": {
    "execution": {
     "iopub.execute_input": "2021-06-14T12:46:50.002078Z",
     "iopub.status.busy": "2021-06-14T12:46:50.001647Z",
     "iopub.status.idle": "2021-06-14T13:34:04.504903Z",
     "shell.execute_reply": "2021-06-14T13:34:04.503917Z",
     "shell.execute_reply.started": "2021-06-14T12:46:50.002042Z"
    }
   },
   "outputs": [],
   "source": [
    "# X_train = X_train.reshape(-1, 32, 150, 150)\n",
    "## Reshaping training set to match Conc2D\n",
    "X_train = X_train.reshape(len(X_train), X_train.shape[1], X_train.shape[2], 1)\n",
    "X_val = X_val.reshape(len(X_val), X_val.shape[1], X_val.shape[2], 1)\n",
    "\n",
    "history = model.fit(X_train, y_train, epochs=5, batch_size = 32)"
   ]
  },
  {
   "cell_type": "code",
   "execution_count": null,
   "metadata": {
    "execution": {
     "iopub.execute_input": "2021-06-14T13:34:04.507157Z",
     "iopub.status.busy": "2021-06-14T13:34:04.506861Z",
     "iopub.status.idle": "2021-06-14T13:34:04.517298Z",
     "shell.execute_reply": "2021-06-14T13:34:04.515977Z",
     "shell.execute_reply.started": "2021-06-14T13:34:04.507129Z"
    }
   },
   "outputs": [],
   "source": [
    "model.summary()"
   ]
  },
  {
   "cell_type": "code",
   "execution_count": null,
   "metadata": {
    "execution": {
     "iopub.execute_input": "2021-06-14T13:34:04.523952Z",
     "iopub.status.busy": "2021-06-14T13:34:04.523315Z",
     "iopub.status.idle": "2021-06-14T13:34:40.36773Z",
     "shell.execute_reply": "2021-06-14T13:34:40.366212Z",
     "shell.execute_reply.started": "2021-06-14T13:34:04.52391Z"
    }
   },
   "outputs": [],
   "source": [
    "model.evaluate(X_val, y_val)"
   ]
  },
  {
   "cell_type": "code",
   "execution_count": null,
   "metadata": {
    "execution": {
     "iopub.execute_input": "2021-06-14T13:34:40.378927Z",
     "iopub.status.busy": "2021-06-14T13:34:40.378419Z",
     "iopub.status.idle": "2021-06-14T13:35:15.996191Z"
    }
   },
   "outputs": [],
   "source": [
    "prediction = model.predict_classes(X_val)"
   ]
  },
  {
   "cell_type": "code",
   "execution_count": null,
   "metadata": {
    "execution": {
     "iopub.execute_input": "2021-06-14T13:35:15.998115Z",
     "iopub.status.busy": "2021-06-14T13:35:15.997745Z",
     "iopub.status.idle": "2021-06-14T13:35:16.018528Z"
    }
   },
   "outputs": [],
   "source": [
    "print(classification_report(y_val, prediction))\n",
    "print(confusion_matrix(y_val, prediction))"
   ]
  },
  {
   "cell_type": "code",
   "execution_count": null,
   "metadata": {},
   "outputs": [],
   "source": []
  }
 ],
 "metadata": {
  "kernelspec": {
   "display_name": "Python [conda env:TF2]",
   "language": "python",
   "name": "conda-env-TF2-py"
  },
  "language_info": {
   "codemirror_mode": {
    "name": "ipython",
    "version": 3
   },
   "file_extension": ".py",
   "mimetype": "text/x-python",
   "name": "python",
   "nbconvert_exporter": "python",
   "pygments_lexer": "ipython3",
   "version": "3.9.12"
  }
 },
 "nbformat": 4,
 "nbformat_minor": 4
}
