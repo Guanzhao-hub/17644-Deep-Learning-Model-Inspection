{
 "cells": [
  {
   "cell_type": "code",
   "execution_count": 1,
   "metadata": {},
   "outputs": [],
   "source": [
    "import xml.etree.ElementTree as ET\n",
    "# Completed Program\n",
    "# Size of our data set\n",
    "size = 852\n",
    "# Prefix\n",
    "prefix = \"maksssksksss\"\n",
    "\n",
    "data = []\n",
    "for i in range(size + 1):\n",
    "    xml_path = 'annotations/' + prefix + str(i) + '.xml'\n",
    "    img_path = 'images/' + prefix + str(i) +'.png'\n",
    "    anno_str = img_path\n",
    "    id = '0'\n",
    "    root = ET.parse(xml_path).getroot()\n",
    "    for obj in root.findall(\"object/bndbox\"):\n",
    "        x1 = obj.find('xmin').text\n",
    "        y1 = obj.find('ymin').text\n",
    "        x2 = obj.find('xmax').text\n",
    "        y2 = obj.find('ymax').text\n",
    "        obj_str = x1+','+ y1 + ',' + x2 + ',' + y2\n",
    "        anno_str += ' ' + obj_str + ' ' + id\n",
    "    anno_str += '\\n'\n",
    "    data.append(anno_str)\n",
    "\n",
    "# Write data to train.txt\n",
    "output_file = open(\"train.txt\", \"w\")\n",
    "for d in data:\n",
    "  output_file.write(d)"
   ]
  },
  {
   "cell_type": "code",
   "execution_count": null,
   "metadata": {},
   "outputs": [],
   "source": []
  }
 ],
 "metadata": {
  "kernelspec": {
   "display_name": "Python 3",
   "language": "python",
   "name": "python3"
  },
  "language_info": {
   "codemirror_mode": {
    "name": "ipython",
    "version": 3
   },
   "file_extension": ".py",
   "mimetype": "text/x-python",
   "name": "python",
   "nbconvert_exporter": "python",
   "pygments_lexer": "ipython3",
   "version": "3.7.3"
  }
 },
 "nbformat": 4,
 "nbformat_minor": 2
}
