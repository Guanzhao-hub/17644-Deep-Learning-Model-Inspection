{
 "cells": [
  {
   "cell_type": "code",
   "execution_count": 1,
   "metadata": {
    "colab": {
     "base_uri": "https://localhost:8080/",
     "height": 98
    },
    "colab_type": "code",
    "id": "6zczHhdVAAq2",
    "outputId": "f4f46cb0-b729-4423-d912-3d9ee67c0e41"
   },
   "outputs": [
    {
     "name": "stdout",
     "output_type": "stream",
     "text": [
      "`%tensorflow_version` only switches the major version: 1.x or 2.x.\n",
      "You set: `1.x #selects tf 1.x in Google Colab`. This will be interpreted as: `1.x`.\n",
      "\n",
      "\n",
      "TensorFlow 1.x selected.\n"
     ]
    }
   ],
   "source": [
    "%tensorflow_version 1.x #selects tf 1.x in Google Colab"
   ]
  },
  {
   "cell_type": "code",
   "execution_count": 1,
   "metadata": {
    "colab": {},
    "colab_type": "code",
    "id": "AKSoTVxSBBq4"
   },
   "outputs": [],
   "source": []
  },
  {
   "cell_type": "code",
   "execution_count": 2,
   "metadata": {
    "colab": {
     "base_uri": "https://localhost:8080/",
     "height": 180
    },
    "colab_type": "code",
    "id": "kEUNITwBA-74",
    "outputId": "f1c408be-bc5c-4c21-c13a-52699f5995b1"
   },
   "outputs": [
    {
     "name": "stdout",
     "output_type": "stream",
     "text": [
      "Collecting deeplift\n",
      "  Downloading https://files.pythonhosted.org/packages/98/18/2abc0aacb4f6902ef5f53517204c634a2f27147c77ce931037bfdfbbd3b1/deeplift-0.6.12.0.tar.gz\n",
      "Requirement already satisfied: numpy>=1.9 in /usr/local/lib/python3.6/dist-packages (from deeplift) (1.18.5)\n",
      "Building wheels for collected packages: deeplift\n",
      "  Building wheel for deeplift (setup.py) ... \u001B[?25l\u001B[?25hdone\n",
      "  Created wheel for deeplift: filename=deeplift-0.6.12.0-cp36-none-any.whl size=36314 sha256=ca1f196533dbcf1ff8c953a8dd68739bed785b60126eeba4afbeed1cf609a5c0\n",
      "  Stored in directory: /root/.cache/pip/wheels/8c/14/b9/824d2a18aab0cdfbc8d9fb848ed0c982b46069afc0f9a019e4\n",
      "Successfully built deeplift\n",
      "Installing collected packages: deeplift\n",
      "Successfully installed deeplift-0.6.12.0\n"
     ]
    }
   ],
   "source": [
    "!pip install deeplift"
   ]
  },
  {
   "cell_type": "code",
   "execution_count": 3,
   "metadata": {
    "colab": {},
    "colab_type": "code",
    "id": "hxMRc1vH_-jH"
   },
   "outputs": [],
   "source": [
    "from __future__ import division, print_function"
   ]
  },
  {
   "cell_type": "code",
   "execution_count": 1,
   "metadata": {},
   "outputs": [],
   "source": [
    "import tensorflow"
   ]
  },
  {
   "cell_type": "code",
   "execution_count": 2,
   "metadata": {},
   "outputs": [
    {
     "data": {
      "text/plain": [
       "'1.15.0'"
      ]
     },
     "execution_count": 2,
     "metadata": {},
     "output_type": "execute_result"
    }
   ],
   "source": [
    "tensorflow.__version__"
   ]
  },
  {
   "cell_type": "markdown",
   "metadata": {
    "colab_type": "text",
    "id": "pI-9u5Oj_-jL"
   },
   "source": [
    "## MNIST example\n",
    "We will perform a simple analysis on MNIST to identify which pixels to erase to convert digits from one class into another class. We will compare importance scores computed using a variety of methods.\n",
    "\n",
    "### Obtain data and keras model\n",
    "We will load a keras model and compute importance scores\n",
    "\n",
    "#### Download the keras model\n",
    "Download a model with 2 strided convolutional layers and 2 dense layers, similar to the one in the paper."
   ]
  },
  {
   "cell_type": "code",
   "execution_count": 3,
   "metadata": {
    "colab": {
     "base_uri": "https://localhost:8080/",
     "height": 212
    },
    "colab_type": "code",
    "id": "FDHu-Xt3_-jL",
    "outputId": "7142afa1-9781-43d4-bcf8-0eab785fc46c",
    "scrolled": true
   },
   "outputs": [
    {
     "name": "stdout",
     "output_type": "stream",
     "text": [
      "--2022-03-25 19:17:48--  https://raw.githubusercontent.com/kundajelab/deeplift/73c8519/examples/mnist/grab_model.sh\n",
      "Resolving raw.githubusercontent.com (raw.githubusercontent.com)... 185.199.110.133, 185.199.108.133, 185.199.111.133, ...\n",
      "Connecting to raw.githubusercontent.com (raw.githubusercontent.com)|185.199.110.133|:443... connected.\n",
      "HTTP request sent, awaiting response... 200 OK\n",
      "Length: 279 [text/plain]\n",
      "Saving to: ‘grab_model.sh.5’\n",
      "\n",
      "grab_model.sh.5     100%[===================>]     279  --.-KB/s    in 0s      \n",
      "\n",
      "2022-03-25 19:17:49 (12.7 MB/s) - ‘grab_model.sh.5’ saved [279/279]\n",
      "\n",
      "File keras2_mnist_cnn_allconv.h5 exists already\n"
     ]
    }
   ],
   "source": [
    "!wget https://raw.githubusercontent.com/kundajelab/deeplift/73c8519/examples/mnist/grab_model.sh\n",
    "!chmod a+x grab_model.sh\n",
    "!./grab_model.sh"
   ]
  },
  {
   "cell_type": "markdown",
   "metadata": {
    "colab_type": "text",
    "id": "EMIz5DMD_-jP"
   },
   "source": [
    "### Load the keras model\n",
    "A user warning about compilation is generated because this model was converted from a keras 1.2 model and was thus never compiled for training."
   ]
  },
  {
   "cell_type": "code",
   "execution_count": null,
   "metadata": {
    "colab": {
     "base_uri": "https://localhost:8080/",
     "height": 622
    },
    "colab_type": "code",
    "id": "dhsc5uhy_-jQ",
    "outputId": "a1babe36-3bbd-4486-e139-211ae2af1f5c"
   },
   "outputs": [
    {
     "name": "stderr",
     "output_type": "stream",
     "text": [
      "ERROR:root:Internal Python error in the inspect module.\n",
      "Below is the traceback from this internal error.\n",
      "\n",
      "ERROR:root:Internal Python error in the inspect module.\n",
      "Below is the traceback from this internal error.\n",
      "\n",
      "ERROR:root:Internal Python error in the inspect module.\n",
      "Below is the traceback from this internal error.\n",
      "\n"
     ]
    },
    {
     "name": "stdout",
     "output_type": "stream",
     "text": [
      "Traceback (most recent call last):\n",
      "  File \"/Users/guanzhaoli/opt/anaconda3/envs/TF1PY372/lib/python3.7/site-packages/IPython/core/interactiveshell.py\", line 3457, in run_code\n",
      "    exec(code_obj, self.user_global_ns, self.user_ns)\n",
      "  File \"/var/folders/4k/2q_gdnx53plgtrz7y4n8qyd80000gn/T/ipykernel_37844/1259591166.py\", line 3, in <module>\n",
      "    keras_model = keras.models.load_model(saved_model_file)\n",
      "  File \"/Users/guanzhaoli/opt/anaconda3/envs/TF1PY372/lib/python3.7/site-packages/keras/engine/saving.py\", line 419, in load_model\n",
      "    model = _deserialize_model(f, custom_objects, compile)\n",
      "  File \"/Users/guanzhaoli/opt/anaconda3/envs/TF1PY372/lib/python3.7/site-packages/keras/engine/saving.py\", line 224, in _deserialize_model\n",
      "    model_config = json.loads(model_config.decode('utf-8'))\n",
      "AttributeError: 'str' object has no attribute 'decode'\n",
      "\n",
      "During handling of the above exception, another exception occurred:\n",
      "\n",
      "Traceback (most recent call last):\n",
      "  File \"/Users/guanzhaoli/opt/anaconda3/envs/TF1PY372/lib/python3.7/site-packages/IPython/core/interactiveshell.py\", line 2077, in showtraceback\n",
      "    stb = value._render_traceback_()\n",
      "AttributeError: 'AttributeError' object has no attribute '_render_traceback_'\n",
      "\n",
      "During handling of the above exception, another exception occurred:\n",
      "\n",
      "Traceback (most recent call last):\n",
      "  File \"/Users/guanzhaoli/opt/anaconda3/envs/TF1PY372/lib/python3.7/site-packages/IPython/core/ultratb.py\", line 1101, in get_records\n",
      "    return _fixed_getinnerframes(etb, number_of_lines_of_context, tb_offset)\n",
      "  File \"/Users/guanzhaoli/opt/anaconda3/envs/TF1PY372/lib/python3.7/site-packages/IPython/core/ultratb.py\", line 248, in wrapped\n",
      "    return f(*args, **kwargs)\n",
      "  File \"/Users/guanzhaoli/opt/anaconda3/envs/TF1PY372/lib/python3.7/site-packages/IPython/core/ultratb.py\", line 281, in _fixed_getinnerframes\n",
      "    records = fix_frame_records_filenames(inspect.getinnerframes(etb, context))\n",
      "  File \"/Users/guanzhaoli/opt/anaconda3/envs/TF1PY372/lib/python3.7/inspect.py\", line 1502, in getinnerframes\n",
      "    frameinfo = (tb.tb_frame,) + getframeinfo(tb, context)\n",
      "  File \"/Users/guanzhaoli/opt/anaconda3/envs/TF1PY372/lib/python3.7/inspect.py\", line 1460, in getframeinfo\n",
      "    filename = getsourcefile(frame) or getfile(frame)\n",
      "  File \"/Users/guanzhaoli/opt/anaconda3/envs/TF1PY372/lib/python3.7/inspect.py\", line 696, in getsourcefile\n",
      "    if getattr(getmodule(object, filename), '__loader__', None) is not None:\n",
      "  File \"/Users/guanzhaoli/opt/anaconda3/envs/TF1PY372/lib/python3.7/inspect.py\", line 733, in getmodule\n",
      "    if ismodule(module) and hasattr(module, '__file__'):\n",
      "  File \"/Users/guanzhaoli/opt/anaconda3/envs/TF1PY372/lib/python3.7/site-packages/tensorflow/__init__.py\", line 50, in __getattr__\n",
      "    module = self._load()\n",
      "  File \"/Users/guanzhaoli/opt/anaconda3/envs/TF1PY372/lib/python3.7/site-packages/tensorflow/__init__.py\", line 44, in _load\n",
      "    module = _importlib.import_module(self.__name__)\n",
      "  File \"/Users/guanzhaoli/opt/anaconda3/envs/TF1PY372/lib/python3.7/importlib/__init__.py\", line 127, in import_module\n",
      "    return _bootstrap._gcd_import(name[level:], package, level)\n",
      "  File \"<frozen importlib._bootstrap>\", line 1006, in _gcd_import\n",
      "  File \"<frozen importlib._bootstrap>\", line 983, in _find_and_load\n",
      "  File \"<frozen importlib._bootstrap>\", line 965, in _find_and_load_unlocked\n",
      "ModuleNotFoundError: No module named 'tensorflow_core.estimator'\n",
      "Traceback (most recent call last):\n",
      "  File \"/Users/guanzhaoli/opt/anaconda3/envs/TF1PY372/lib/python3.7/site-packages/IPython/core/interactiveshell.py\", line 3457, in run_code\n",
      "    exec(code_obj, self.user_global_ns, self.user_ns)\n",
      "  File \"/var/folders/4k/2q_gdnx53plgtrz7y4n8qyd80000gn/T/ipykernel_37844/1259591166.py\", line 3, in <module>\n",
      "    keras_model = keras.models.load_model(saved_model_file)\n",
      "  File \"/Users/guanzhaoli/opt/anaconda3/envs/TF1PY372/lib/python3.7/site-packages/keras/engine/saving.py\", line 419, in load_model\n",
      "    model = _deserialize_model(f, custom_objects, compile)\n",
      "  File \"/Users/guanzhaoli/opt/anaconda3/envs/TF1PY372/lib/python3.7/site-packages/keras/engine/saving.py\", line 224, in _deserialize_model\n",
      "    model_config = json.loads(model_config.decode('utf-8'))\n",
      "AttributeError: 'str' object has no attribute 'decode'\n",
      "\n",
      "During handling of the above exception, another exception occurred:\n",
      "\n",
      "Traceback (most recent call last):\n",
      "  File \"/Users/guanzhaoli/opt/anaconda3/envs/TF1PY372/lib/python3.7/site-packages/IPython/core/interactiveshell.py\", line 2077, in showtraceback\n",
      "    stb = value._render_traceback_()\n",
      "AttributeError: 'AttributeError' object has no attribute '_render_traceback_'\n",
      "\n",
      "During handling of the above exception, another exception occurred:\n",
      "\n",
      "Traceback (most recent call last):\n",
      "  File \"/Users/guanzhaoli/opt/anaconda3/envs/TF1PY372/lib/python3.7/site-packages/IPython/core/interactiveshell.py\", line 3377, in run_ast_nodes\n",
      "    if (await self.run_code(code, result,  async_=asy)):\n",
      "  File \"/Users/guanzhaoli/opt/anaconda3/envs/TF1PY372/lib/python3.7/site-packages/IPython/core/interactiveshell.py\", line 3474, in run_code\n",
      "    self.showtraceback(running_compiled_code=True)\n",
      "  File \"/Users/guanzhaoli/opt/anaconda3/envs/TF1PY372/lib/python3.7/site-packages/IPython/core/interactiveshell.py\", line 2080, in showtraceback\n",
      "    value, tb, tb_offset=tb_offset)\n",
      "  File \"/Users/guanzhaoli/opt/anaconda3/envs/TF1PY372/lib/python3.7/site-packages/IPython/core/ultratb.py\", line 1368, in structured_traceback\n",
      "    self, etype, value, tb, tb_offset, number_of_lines_of_context)\n",
      "  File \"/Users/guanzhaoli/opt/anaconda3/envs/TF1PY372/lib/python3.7/site-packages/IPython/core/ultratb.py\", line 1268, in structured_traceback\n",
      "    self, etype, value, tb, tb_offset, number_of_lines_of_context\n",
      "  File \"/Users/guanzhaoli/opt/anaconda3/envs/TF1PY372/lib/python3.7/site-packages/IPython/core/ultratb.py\", line 1125, in structured_traceback\n",
      "    tb_offset)\n",
      "  File \"/Users/guanzhaoli/opt/anaconda3/envs/TF1PY372/lib/python3.7/site-packages/IPython/core/ultratb.py\", line 1082, in format_exception_as_a_whole\n",
      "    last_unique, recursion_repeat = find_recursion(orig_etype, evalue, records)\n",
      "  File \"/Users/guanzhaoli/opt/anaconda3/envs/TF1PY372/lib/python3.7/site-packages/IPython/core/ultratb.py\", line 382, in find_recursion\n",
      "    return len(records), 0\n",
      "TypeError: object of type 'NoneType' has no len()\n",
      "\n",
      "During handling of the above exception, another exception occurred:\n",
      "\n",
      "Traceback (most recent call last):\n",
      "  File \"/Users/guanzhaoli/opt/anaconda3/envs/TF1PY372/lib/python3.7/site-packages/IPython/core/interactiveshell.py\", line 2077, in showtraceback\n",
      "    stb = value._render_traceback_()\n",
      "AttributeError: 'TypeError' object has no attribute '_render_traceback_'\n",
      "\n",
      "During handling of the above exception, another exception occurred:\n",
      "\n",
      "Traceback (most recent call last):\n",
      "  File \"/Users/guanzhaoli/opt/anaconda3/envs/TF1PY372/lib/python3.7/site-packages/IPython/core/ultratb.py\", line 1101, in get_records\n",
      "    return _fixed_getinnerframes(etb, number_of_lines_of_context, tb_offset)\n",
      "  File \"/Users/guanzhaoli/opt/anaconda3/envs/TF1PY372/lib/python3.7/site-packages/IPython/core/ultratb.py\", line 248, in wrapped\n",
      "    return f(*args, **kwargs)\n",
      "  File \"/Users/guanzhaoli/opt/anaconda3/envs/TF1PY372/lib/python3.7/site-packages/IPython/core/ultratb.py\", line 281, in _fixed_getinnerframes\n",
      "    records = fix_frame_records_filenames(inspect.getinnerframes(etb, context))\n",
      "  File \"/Users/guanzhaoli/opt/anaconda3/envs/TF1PY372/lib/python3.7/inspect.py\", line 1502, in getinnerframes\n",
      "    frameinfo = (tb.tb_frame,) + getframeinfo(tb, context)\n",
      "  File \"/Users/guanzhaoli/opt/anaconda3/envs/TF1PY372/lib/python3.7/inspect.py\", line 1460, in getframeinfo\n",
      "    filename = getsourcefile(frame) or getfile(frame)\n",
      "  File \"/Users/guanzhaoli/opt/anaconda3/envs/TF1PY372/lib/python3.7/inspect.py\", line 696, in getsourcefile\n",
      "    if getattr(getmodule(object, filename), '__loader__', None) is not None:\n",
      "  File \"/Users/guanzhaoli/opt/anaconda3/envs/TF1PY372/lib/python3.7/inspect.py\", line 733, in getmodule\n",
      "    if ismodule(module) and hasattr(module, '__file__'):\n",
      "  File \"/Users/guanzhaoli/opt/anaconda3/envs/TF1PY372/lib/python3.7/site-packages/tensorflow/__init__.py\", line 50, in __getattr__\n",
      "    module = self._load()\n",
      "  File \"/Users/guanzhaoli/opt/anaconda3/envs/TF1PY372/lib/python3.7/site-packages/tensorflow/__init__.py\", line 44, in _load\n",
      "    module = _importlib.import_module(self.__name__)\n",
      "  File \"/Users/guanzhaoli/opt/anaconda3/envs/TF1PY372/lib/python3.7/importlib/__init__.py\", line 127, in import_module\n",
      "    return _bootstrap._gcd_import(name[level:], package, level)\n",
      "  File \"<frozen importlib._bootstrap>\", line 1006, in _gcd_import\n",
      "  File \"<frozen importlib._bootstrap>\", line 983, in _find_and_load\n",
      "  File \"<frozen importlib._bootstrap>\", line 965, in _find_and_load_unlocked\n",
      "ModuleNotFoundError: No module named 'tensorflow_core.estimator'\n",
      "Traceback (most recent call last):\n",
      "  File \"/Users/guanzhaoli/opt/anaconda3/envs/TF1PY372/lib/python3.7/site-packages/IPython/core/interactiveshell.py\", line 3457, in run_code\n",
      "    exec(code_obj, self.user_global_ns, self.user_ns)\n",
      "  File \"/var/folders/4k/2q_gdnx53plgtrz7y4n8qyd80000gn/T/ipykernel_37844/1259591166.py\", line 3, in <module>\n",
      "    keras_model = keras.models.load_model(saved_model_file)\n",
      "  File \"/Users/guanzhaoli/opt/anaconda3/envs/TF1PY372/lib/python3.7/site-packages/keras/engine/saving.py\", line 419, in load_model\n",
      "    model = _deserialize_model(f, custom_objects, compile)\n",
      "  File \"/Users/guanzhaoli/opt/anaconda3/envs/TF1PY372/lib/python3.7/site-packages/keras/engine/saving.py\", line 224, in _deserialize_model\n",
      "    model_config = json.loads(model_config.decode('utf-8'))\n",
      "AttributeError: 'str' object has no attribute 'decode'\n",
      "\n",
      "During handling of the above exception, another exception occurred:\n",
      "\n",
      "Traceback (most recent call last):\n",
      "  File \"/Users/guanzhaoli/opt/anaconda3/envs/TF1PY372/lib/python3.7/site-packages/IPython/core/interactiveshell.py\", line 2077, in showtraceback\n",
      "    stb = value._render_traceback_()\n",
      "AttributeError: 'AttributeError' object has no attribute '_render_traceback_'\n",
      "\n",
      "During handling of the above exception, another exception occurred:\n",
      "\n",
      "Traceback (most recent call last):\n",
      "  File \"/Users/guanzhaoli/opt/anaconda3/envs/TF1PY372/lib/python3.7/site-packages/IPython/core/interactiveshell.py\", line 3377, in run_ast_nodes\n",
      "    if (await self.run_code(code, result,  async_=asy)):\n",
      "  File \"/Users/guanzhaoli/opt/anaconda3/envs/TF1PY372/lib/python3.7/site-packages/IPython/core/interactiveshell.py\", line 3474, in run_code\n",
      "    self.showtraceback(running_compiled_code=True)\n",
      "  File \"/Users/guanzhaoli/opt/anaconda3/envs/TF1PY372/lib/python3.7/site-packages/IPython/core/interactiveshell.py\", line 2080, in showtraceback\n",
      "    value, tb, tb_offset=tb_offset)\n",
      "  File \"/Users/guanzhaoli/opt/anaconda3/envs/TF1PY372/lib/python3.7/site-packages/IPython/core/ultratb.py\", line 1368, in structured_traceback\n",
      "    self, etype, value, tb, tb_offset, number_of_lines_of_context)\n",
      "  File \"/Users/guanzhaoli/opt/anaconda3/envs/TF1PY372/lib/python3.7/site-packages/IPython/core/ultratb.py\", line 1268, in structured_traceback\n",
      "    self, etype, value, tb, tb_offset, number_of_lines_of_context\n",
      "  File \"/Users/guanzhaoli/opt/anaconda3/envs/TF1PY372/lib/python3.7/site-packages/IPython/core/ultratb.py\", line 1125, in structured_traceback\n",
      "    tb_offset)\n",
      "  File \"/Users/guanzhaoli/opt/anaconda3/envs/TF1PY372/lib/python3.7/site-packages/IPython/core/ultratb.py\", line 1082, in format_exception_as_a_whole\n",
      "    last_unique, recursion_repeat = find_recursion(orig_etype, evalue, records)\n",
      "  File \"/Users/guanzhaoli/opt/anaconda3/envs/TF1PY372/lib/python3.7/site-packages/IPython/core/ultratb.py\", line 382, in find_recursion\n",
      "    return len(records), 0\n",
      "TypeError: object of type 'NoneType' has no len()\n",
      "\n",
      "During handling of the above exception, another exception occurred:\n",
      "\n",
      "Traceback (most recent call last):\n",
      "  File \"/Users/guanzhaoli/opt/anaconda3/envs/TF1PY372/lib/python3.7/site-packages/IPython/core/interactiveshell.py\", line 2077, in showtraceback\n",
      "    stb = value._render_traceback_()\n",
      "AttributeError: 'TypeError' object has no attribute '_render_traceback_'\n",
      "\n",
      "During handling of the above exception, another exception occurred:\n",
      "\n",
      "Traceback (most recent call last):\n",
      "  File \"/Users/guanzhaoli/opt/anaconda3/envs/TF1PY372/lib/python3.7/site-packages/IPython/core/interactiveshell.py\", line 2960, in _run_cell\n",
      "    return runner(coro)\n",
      "  File \"/Users/guanzhaoli/opt/anaconda3/envs/TF1PY372/lib/python3.7/site-packages/IPython/core/async_helpers.py\", line 78, in _pseudo_sync_runner\n",
      "    coro.send(None)\n",
      "  File \"/Users/guanzhaoli/opt/anaconda3/envs/TF1PY372/lib/python3.7/site-packages/IPython/core/interactiveshell.py\", line 3186, in run_cell_async\n",
      "    interactivity=interactivity, compiler=compiler, result=result)\n",
      "  File \"/Users/guanzhaoli/opt/anaconda3/envs/TF1PY372/lib/python3.7/site-packages/IPython/core/interactiveshell.py\", line 3396, in run_ast_nodes\n",
      "    self.showtraceback()\n",
      "  File \"/Users/guanzhaoli/opt/anaconda3/envs/TF1PY372/lib/python3.7/site-packages/IPython/core/interactiveshell.py\", line 2080, in showtraceback\n",
      "    value, tb, tb_offset=tb_offset)\n",
      "  File \"/Users/guanzhaoli/opt/anaconda3/envs/TF1PY372/lib/python3.7/site-packages/IPython/core/ultratb.py\", line 1368, in structured_traceback\n",
      "    self, etype, value, tb, tb_offset, number_of_lines_of_context)\n",
      "  File \"/Users/guanzhaoli/opt/anaconda3/envs/TF1PY372/lib/python3.7/site-packages/IPython/core/ultratb.py\", line 1268, in structured_traceback\n",
      "    self, etype, value, tb, tb_offset, number_of_lines_of_context\n",
      "  File \"/Users/guanzhaoli/opt/anaconda3/envs/TF1PY372/lib/python3.7/site-packages/IPython/core/ultratb.py\", line 1143, in structured_traceback\n",
      "    chained_exceptions_tb_offset)\n",
      "  File \"/Users/guanzhaoli/opt/anaconda3/envs/TF1PY372/lib/python3.7/site-packages/IPython/core/ultratb.py\", line 1082, in format_exception_as_a_whole\n",
      "    last_unique, recursion_repeat = find_recursion(orig_etype, evalue, records)\n",
      "  File \"/Users/guanzhaoli/opt/anaconda3/envs/TF1PY372/lib/python3.7/site-packages/IPython/core/ultratb.py\", line 382, in find_recursion\n",
      "    return len(records), 0\n",
      "TypeError: object of type 'NoneType' has no len()\n",
      "\n",
      "During handling of the above exception, another exception occurred:\n",
      "\n",
      "Traceback (most recent call last):\n",
      "  File \"/Users/guanzhaoli/opt/anaconda3/envs/TF1PY372/lib/python3.7/site-packages/IPython/core/interactiveshell.py\", line 2077, in showtraceback\n",
      "    stb = value._render_traceback_()\n",
      "AttributeError: 'TypeError' object has no attribute '_render_traceback_'\n",
      "\n",
      "During handling of the above exception, another exception occurred:\n",
      "\n",
      "Traceback (most recent call last):\n",
      "  File \"/Users/guanzhaoli/opt/anaconda3/envs/TF1PY372/lib/python3.7/site-packages/IPython/core/ultratb.py\", line 1101, in get_records\n",
      "    return _fixed_getinnerframes(etb, number_of_lines_of_context, tb_offset)\n",
      "  File \"/Users/guanzhaoli/opt/anaconda3/envs/TF1PY372/lib/python3.7/site-packages/IPython/core/ultratb.py\", line 248, in wrapped\n",
      "    return f(*args, **kwargs)\n",
      "  File \"/Users/guanzhaoli/opt/anaconda3/envs/TF1PY372/lib/python3.7/site-packages/IPython/core/ultratb.py\", line 281, in _fixed_getinnerframes\n",
      "    records = fix_frame_records_filenames(inspect.getinnerframes(etb, context))\n",
      "  File \"/Users/guanzhaoli/opt/anaconda3/envs/TF1PY372/lib/python3.7/inspect.py\", line 1502, in getinnerframes\n",
      "    frameinfo = (tb.tb_frame,) + getframeinfo(tb, context)\n",
      "  File \"/Users/guanzhaoli/opt/anaconda3/envs/TF1PY372/lib/python3.7/inspect.py\", line 1460, in getframeinfo\n",
      "    filename = getsourcefile(frame) or getfile(frame)\n",
      "  File \"/Users/guanzhaoli/opt/anaconda3/envs/TF1PY372/lib/python3.7/inspect.py\", line 696, in getsourcefile\n",
      "    if getattr(getmodule(object, filename), '__loader__', None) is not None:\n",
      "  File \"/Users/guanzhaoli/opt/anaconda3/envs/TF1PY372/lib/python3.7/inspect.py\", line 733, in getmodule\n",
      "    if ismodule(module) and hasattr(module, '__file__'):\n",
      "  File \"/Users/guanzhaoli/opt/anaconda3/envs/TF1PY372/lib/python3.7/site-packages/tensorflow/__init__.py\", line 50, in __getattr__\n",
      "    module = self._load()\n",
      "  File \"/Users/guanzhaoli/opt/anaconda3/envs/TF1PY372/lib/python3.7/site-packages/tensorflow/__init__.py\", line 44, in _load\n",
      "    module = _importlib.import_module(self.__name__)\n",
      "  File \"/Users/guanzhaoli/opt/anaconda3/envs/TF1PY372/lib/python3.7/importlib/__init__.py\", line 127, in import_module\n",
      "    return _bootstrap._gcd_import(name[level:], package, level)\n",
      "  File \"<frozen importlib._bootstrap>\", line 1006, in _gcd_import\n",
      "  File \"<frozen importlib._bootstrap>\", line 983, in _find_and_load\n",
      "  File \"<frozen importlib._bootstrap>\", line 965, in _find_and_load_unlocked\n",
      "ModuleNotFoundError: No module named 'tensorflow_core.estimator'\n"
     ]
    }
   ],
   "source": [
    "import keras\n",
    "saved_model_file = \"keras2_mnist_cnn_allconv.h5\"\n",
    "keras_model = keras.models.load_model(saved_model_file)\n",
    "keras_model.summary()"
   ]
  },
  {
   "cell_type": "code",
   "execution_count": 4,
   "metadata": {},
   "outputs": [
    {
     "data": {
      "text/plain": [
       "'2.2.4'"
      ]
     },
     "execution_count": 4,
     "metadata": {},
     "output_type": "execute_result"
    },
    {
     "name": "stdout",
     "output_type": "stream",
     "text": [
      "ERROR! Session/line number was not unique in database. History logging moved to new session 115\n"
     ]
    }
   ],
   "source": [
    "keras.__version__"
   ]
  },
  {
   "cell_type": "markdown",
   "metadata": {
    "colab_type": "text",
    "id": "gPt3xHhT_-jS"
   },
   "source": [
    "### Load the data"
   ]
  },
  {
   "cell_type": "code",
   "execution_count": null,
   "metadata": {
    "colab": {},
    "colab_type": "code",
    "id": "NMaCw72G_-jT"
   },
   "outputs": [],
   "source": [
    "from keras.datasets import mnist\n",
    "(X_train, y_train), (X_test, y_test) = mnist.load_data()\n",
    "X_test = X_test[:,:,:,None]"
   ]
  },
  {
   "cell_type": "markdown",
   "metadata": {
    "colab_type": "text",
    "id": "89owatiB_-jW"
   },
   "source": [
    "## Prepare the deeplift models\n",
    "\n",
    "### Model conversion\n",
    "Convert the keras models to deeplift models capable of computing importance scores using DeepLIFT-RevealCancel, gradients and guided backprop"
   ]
  },
  {
   "cell_type": "code",
   "execution_count": 4,
   "metadata": {
    "colab": {
     "base_uri": "https://localhost:8080/",
     "height": 232
    },
    "colab_type": "code",
    "id": "M0UDhXn9_-jW",
    "outputId": "b87fd76e-bf50-4c8b-992f-df90ca9898bb"
   },
   "outputs": [
    {
     "name": "stdout",
     "output_type": "stream",
     "text": [
      "nonlinear_mxts_mode is set to: RevealCancel\n"
     ]
    },
    {
     "name": "stderr",
     "output_type": "stream",
     "text": [
      "/Users/guanzhaoli/opt/anaconda3/lib/python3.8/site-packages/deeplift/conversion/kerasapi_conversion.py:359: H5pyDeprecationWarning: The default file mode will change to 'r' (read-only) in h5py 3.0. To suppress this warning, pass the mode you need to h5py.File(), or set the global default h5.get_config().default_file_mode, or set the environment variable H5PY_DEFAULT_READONLY=1. Available modes are: 'r', 'r+', 'w', 'w-'/'x', 'a'. See the docs for details.\n",
      "  str_data = h5py.File(h5_file).attrs[\"model_config\"]\n",
      "/Users/guanzhaoli/opt/anaconda3/lib/python3.8/site-packages/deeplift/conversion/kerasapi_conversion.py:366: H5pyDeprecationWarning: The default file mode will change to 'r' (read-only) in h5py 3.0. To suppress this warning, pass the mode you need to h5py.File(), or set the global default h5.get_config().default_file_mode, or set the environment variable H5PY_DEFAULT_READONLY=1. Available modes are: 'r', 'r+', 'w', 'w-'/'x', 'a'. See the docs for details.\n",
      "  model_weights = h5py.File(h5_file)\n"
     ]
    },
    {
     "ename": "AttributeError",
     "evalue": "module 'tensorflow' has no attribute 'placeholder'",
     "output_type": "error",
     "traceback": [
      "\u001B[0;31m---------------------------------------------------------------------------\u001B[0m",
      "\u001B[0;31mAttributeError\u001B[0m                            Traceback (most recent call last)",
      "\u001B[0;32m<ipython-input-4-04da88eeab95>\u001B[0m in \u001B[0;36m<module>\u001B[0;34m\u001B[0m\n\u001B[1;32m      4\u001B[0m \u001B[0;34m\u001B[0m\u001B[0m\n\u001B[1;32m      5\u001B[0m \u001B[0;31m#Three different models, one each for RevealCancel, Gradient and GuidedBackprop\u001B[0m\u001B[0;34m\u001B[0m\u001B[0;34m\u001B[0m\u001B[0;34m\u001B[0m\u001B[0m\n\u001B[0;32m----> 6\u001B[0;31m revealcancel_model = kc.convert_model_from_saved_files(\n\u001B[0m\u001B[1;32m      7\u001B[0m                             \u001B[0mh5_file\u001B[0m\u001B[0;34m=\u001B[0m\u001B[0msaved_model_file\u001B[0m\u001B[0;34m,\u001B[0m\u001B[0;34m\u001B[0m\u001B[0;34m\u001B[0m\u001B[0m\n\u001B[1;32m      8\u001B[0m                             nonlinear_mxts_mode=NonlinearMxtsMode.RevealCancel)\n",
      "\u001B[0;32m~/opt/anaconda3/lib/python3.8/site-packages/deeplift/conversion/kerasapi_conversion.py\u001B[0m in \u001B[0;36mconvert_model_from_saved_files\u001B[0;34m(h5_file, json_file, yaml_file, **kwargs)\u001B[0m\n\u001B[1;32m    411\u001B[0m             \u001B[0mlayer_config\u001B[0m\u001B[0;34m[\u001B[0m\u001B[0;34m\"config\"\u001B[0m\u001B[0;34m]\u001B[0m\u001B[0;34m[\u001B[0m\u001B[0;34m\"weights\"\u001B[0m\u001B[0;34m]\u001B[0m \u001B[0;34m=\u001B[0m \u001B[0mlayer_weights\u001B[0m\u001B[0;34m\u001B[0m\u001B[0;34m\u001B[0m\u001B[0m\n\u001B[1;32m    412\u001B[0m \u001B[0;34m\u001B[0m\u001B[0m\n\u001B[0;32m--> 413\u001B[0;31m     \u001B[0;32mreturn\u001B[0m \u001B[0mmodel_conversion_function\u001B[0m\u001B[0;34m(\u001B[0m\u001B[0mmodel_config\u001B[0m\u001B[0;34m=\u001B[0m\u001B[0mmodel_config\u001B[0m\u001B[0;34m,\u001B[0m \u001B[0;34m**\u001B[0m\u001B[0mkwargs\u001B[0m\u001B[0;34m)\u001B[0m\u001B[0;34m\u001B[0m\u001B[0;34m\u001B[0m\u001B[0m\n\u001B[0m\u001B[1;32m    414\u001B[0m \u001B[0;34m\u001B[0m\u001B[0m\n\u001B[1;32m    415\u001B[0m \u001B[0;34m\u001B[0m\u001B[0m\n",
      "\u001B[0;32m~/opt/anaconda3/lib/python3.8/site-packages/deeplift/conversion/kerasapi_conversion.py\u001B[0m in \u001B[0;36mconvert_sequential_model\u001B[0;34m(model_config, nonlinear_mxts_mode, verbose, dense_mxts_mode, conv_mxts_mode, maxpool_deeplift_mode, layer_overrides, custom_conversion_funcs)\u001B[0m\n\u001B[1;32m    457\u001B[0m     \u001B[0mbatch_input_shape\u001B[0m \u001B[0;34m=\u001B[0m \u001B[0mmodel_config\u001B[0m\u001B[0;34m[\u001B[0m\u001B[0;36m0\u001B[0m\u001B[0;34m]\u001B[0m\u001B[0;34m[\u001B[0m\u001B[0;34m'config'\u001B[0m\u001B[0;34m]\u001B[0m\u001B[0;34m[\u001B[0m\u001B[0mKerasKeys\u001B[0m\u001B[0;34m.\u001B[0m\u001B[0mbatch_input_shape\u001B[0m\u001B[0;34m]\u001B[0m\u001B[0;34m\u001B[0m\u001B[0;34m\u001B[0m\u001B[0m\n\u001B[1;32m    458\u001B[0m     converted_layers.append(\n\u001B[0;32m--> 459\u001B[0;31m         layers.core.Input(batch_shape=batch_input_shape, name=\"input\"))\n\u001B[0m\u001B[1;32m    460\u001B[0m     \u001B[0;31m#converted_layers is actually mutated to be extended with the\u001B[0m\u001B[0;34m\u001B[0m\u001B[0;34m\u001B[0m\u001B[0;34m\u001B[0m\u001B[0m\n\u001B[1;32m    461\u001B[0m     \u001B[0;31m#additional layers so the assignment is not strictly necessary,\u001B[0m\u001B[0;34m\u001B[0m\u001B[0;34m\u001B[0m\u001B[0;34m\u001B[0m\u001B[0m\n",
      "\u001B[0;32m~/opt/anaconda3/lib/python3.8/site-packages/deeplift/layers/core.py\u001B[0m in \u001B[0;36m__init__\u001B[0;34m(self, batch_shape, **kwargs)\u001B[0m\n\u001B[1;32m    205\u001B[0m         \u001B[0mself\u001B[0m\u001B[0;34m.\u001B[0m\u001B[0m_num_dims\u001B[0m \u001B[0;34m=\u001B[0m \u001B[0mlen\u001B[0m\u001B[0;34m(\u001B[0m\u001B[0mbatch_shape\u001B[0m\u001B[0;34m)\u001B[0m\u001B[0;34m\u001B[0m\u001B[0;34m\u001B[0m\u001B[0m\n\u001B[1;32m    206\u001B[0m         \u001B[0mself\u001B[0m\u001B[0;34m.\u001B[0m\u001B[0m_shape\u001B[0m \u001B[0;34m=\u001B[0m \u001B[0mbatch_shape\u001B[0m\u001B[0;34m\u001B[0m\u001B[0;34m\u001B[0m\u001B[0m\n\u001B[0;32m--> 207\u001B[0;31m         self._activation_vars = tf.placeholder(\n\u001B[0m\u001B[1;32m    208\u001B[0m                                  \u001B[0mdtype\u001B[0m\u001B[0;34m=\u001B[0m\u001B[0mtf\u001B[0m\u001B[0;34m.\u001B[0m\u001B[0mfloat32\u001B[0m\u001B[0;34m,\u001B[0m \u001B[0mshape\u001B[0m\u001B[0;34m=\u001B[0m\u001B[0mbatch_shape\u001B[0m\u001B[0;34m,\u001B[0m\u001B[0;34m\u001B[0m\u001B[0;34m\u001B[0m\u001B[0m\n\u001B[1;32m    209\u001B[0m                                  name=\"inp_\"+str(self.get_name()))\n",
      "\u001B[0;31mAttributeError\u001B[0m: module 'tensorflow' has no attribute 'placeholder'"
     ]
    }
   ],
   "source": [
    "import deeplift\n",
    "from deeplift.layers import NonlinearMxtsMode\n",
    "from deeplift.conversion import kerasapi_conversion as kc\n",
    "\n",
    "#Three different models, one each for RevealCancel, Gradient and GuidedBackprop\n",
    "revealcancel_model = kc.convert_model_from_saved_files(\n",
    "                            h5_file=saved_model_file,\n",
    "                            nonlinear_mxts_mode=NonlinearMxtsMode.RevealCancel)\n",
    "grad_model = kc.convert_model_from_saved_files(\n",
    "                            h5_file=saved_model_file,\n",
    "                            nonlinear_mxts_mode=NonlinearMxtsMode.Gradient)\n",
    "guided_backprop_model = kc.convert_model_from_saved_files(\n",
    "                            h5_file=saved_model_file,\n",
    "                            nonlinear_mxts_mode=NonlinearMxtsMode.GuidedBackprop)"
   ]
  },
  {
   "cell_type": "markdown",
   "metadata": {
    "colab_type": "text",
    "id": "q4-ohpeV_-jZ"
   },
   "source": [
    "### Sanity checks\n",
    "To ensure that the conversion happend correctly, ensure that the models give identical predictions\n",
    "\n",
    "If you are using a functional model, see this issue for how to adapt the code: https://github.com/kundajelab/deeplift/issues/54"
   ]
  },
  {
   "cell_type": "code",
   "execution_count": 8,
   "metadata": {
    "colab": {
     "base_uri": "https://localhost:8080/",
     "height": 66
    },
    "colab_type": "code",
    "id": "axmcURFY_-jZ",
    "outputId": "37545329-1f52-4acc-cf53-f61aeb6224d4"
   },
   "outputs": [
    {
     "name": "stdout",
     "output_type": "stream",
     "text": [
      "WARNING:tensorflow:From /tensorflow-1.15.2/python3.6/keras/backend/tensorflow_backend.py:422: The name tf.global_variables is deprecated. Please use tf.compat.v1.global_variables instead.\n",
      "\n",
      "difference in predictions: 0.0\n"
     ]
    }
   ],
   "source": [
    "from deeplift.util import compile_func\n",
    "import numpy as np\n",
    "from keras import backend as K\n",
    "\n",
    "deeplift_model = revealcancel_model\n",
    "deeplift_prediction_func = compile_func([deeplift_model.get_layers()[0].get_activation_vars()],\n",
    "                                       deeplift_model.get_layers()[-1].get_activation_vars())\n",
    "original_model_predictions = keras_model.predict(X_test, batch_size=200)\n",
    "converted_model_predictions = deeplift.util.run_function_in_batches(\n",
    "                                input_data_list=[X_test],\n",
    "                                func=deeplift_prediction_func,\n",
    "                                batch_size=200,\n",
    "                                progress_update=None)\n",
    "print(\"difference in predictions:\",np.max(np.array(converted_model_predictions)-np.array(original_model_predictions)))\n",
    "assert np.max(np.array(converted_model_predictions)-np.array(original_model_predictions)) < 10**-5\n",
    "predictions = converted_model_predictions"
   ]
  },
  {
   "cell_type": "markdown",
   "metadata": {
    "colab_type": "text",
    "id": "2f7vM5QM_-jc"
   },
   "source": [
    "## Compute importance scores\n",
    "\n",
    "### Compile various scoring functions\n",
    "Using the deeplift models, we obtain the functions capable of computing the importance scores."
   ]
  },
  {
   "cell_type": "code",
   "execution_count": 9,
   "metadata": {
    "colab": {
     "base_uri": "https://localhost:8080/",
     "height": 115
    },
    "colab_type": "code",
    "id": "1sx0gc2R_-jc",
    "outputId": "d12fcbc5-927a-482a-dbe7-f558b02fa767"
   },
   "outputs": [
    {
     "name": "stdout",
     "output_type": "stream",
     "text": [
      "WARNING:tensorflow:From /usr/local/lib/python3.6/dist-packages/deeplift/layers/core.py:455: The name tf.variables_initializer is deprecated. Please use tf.compat.v1.variables_initializer instead.\n",
      "\n",
      "WARNING:tensorflow:From /usr/local/lib/python3.6/dist-packages/deeplift/layers/core.py:471: The name tf.assign is deprecated. Please use tf.compat.v1.assign instead.\n",
      "\n",
      "WARNING:tensorflow:From /usr/local/lib/python3.6/dist-packages/deeplift/layers/core.py:473: The name tf.scatter_update is deprecated. Please use tf.compat.v1.scatter_update instead.\n",
      "\n"
     ]
    }
   ],
   "source": [
    "from keras import backend as K\n",
    "import deeplift\n",
    "from deeplift.util import get_integrated_gradients_function\n",
    "\n",
    "revealcancel_func = revealcancel_model.get_target_contribs_func(find_scores_layer_idx=0, target_layer_idx=-2)\n",
    "grad_times_inp_func = grad_model.get_target_contribs_func(find_scores_layer_idx=0, target_layer_idx=-2)\n",
    "guided_backprop_times_inp_func = guided_backprop_model.get_target_contribs_func(find_scores_layer_idx=0, target_layer_idx=-2)\n",
    "\n",
    "gradient_func = grad_model.get_target_multipliers_func(find_scores_layer_idx=0, target_layer_idx=-2)\n",
    "guided_backprop_func = guided_backprop_model.get_target_multipliers_func(find_scores_layer_idx=0, target_layer_idx=-2)\n",
    "\n",
    "#pure-gradients or pure-guidedbackprop perform rather poorly because they produce scores on pixels that are 0 (which are\n",
    "#the backround in MNIST). But we can give them a slight advantage by masking out positions that\n",
    "#are zero. Also, the method of simonyan et al uses the magnitude of the gradient.\n",
    "simonyan_func_masked = lambda input_data_list, **kwargs: ((input_data_list[0]>0.0)*\n",
    "                        np.abs(np.array(gradient_func(input_data_list=input_data_list,**kwargs))))\n",
    "guided_backprop_func_masked = lambda input_data_list, **kwargs: ((input_data_list[0]>0.0)*\n",
    "                               guided_backprop_func(input_data_list=input_data_list, **kwargs))\n",
    "\n",
    "#prepare the integrated gradients scoring functions\n",
    "#heads-up: these take 5x and 10x longer to compute respectively!\n",
    "integrated_grads_5 = get_integrated_gradients_function(gradient_func, 5)\n",
    "integrated_grads_10 = get_integrated_gradients_function(gradient_func, 10)"
   ]
  },
  {
   "cell_type": "markdown",
   "metadata": {
    "colab_type": "text",
    "id": "xlfMXS2N_-jf"
   },
   "source": [
    "### Call scoring functions on the data"
   ]
  },
  {
   "cell_type": "code",
   "execution_count": 10,
   "metadata": {
    "colab": {
     "base_uri": "https://localhost:8080/",
     "height": 1000
    },
    "colab_type": "code",
    "id": "YBagGRiX_-jf",
    "outputId": "9e472e58-25fe-4263-e34f-a677fd184a22"
   },
   "outputs": [
    {
     "name": "stdout",
     "output_type": "stream",
     "text": [
      "HEADS UP! integrated_grads_5 and integrated_grads_10 take 5x and 10x longer to run respectively\n",
      "Consider leaving them out to get faster results\n",
      "Computing scores for: revealcancel\n",
      "\tComputing scores for task: 0\n",
      "\tComputing scores for task: 1\n",
      "\tComputing scores for task: 2\n",
      "\tComputing scores for task: 3\n",
      "\tComputing scores for task: 4\n",
      "\tComputing scores for task: 5\n",
      "\tComputing scores for task: 6\n",
      "\tComputing scores for task: 7\n",
      "\tComputing scores for task: 8\n",
      "\tComputing scores for task: 9\n",
      "Computing scores for: guided_backprop_masked\n",
      "\tComputing scores for task: 0\n",
      "\tComputing scores for task: 1\n",
      "\tComputing scores for task: 2\n",
      "\tComputing scores for task: 3\n",
      "\tComputing scores for task: 4\n",
      "\tComputing scores for task: 5\n",
      "\tComputing scores for task: 6\n",
      "\tComputing scores for task: 7\n",
      "\tComputing scores for task: 8\n",
      "\tComputing scores for task: 9\n",
      "Computing scores for: guided_backprop_times_inp\n",
      "\tComputing scores for task: 0\n",
      "\tComputing scores for task: 1\n",
      "\tComputing scores for task: 2\n",
      "\tComputing scores for task: 3\n",
      "\tComputing scores for task: 4\n",
      "\tComputing scores for task: 5\n",
      "\tComputing scores for task: 6\n",
      "\tComputing scores for task: 7\n",
      "\tComputing scores for task: 8\n",
      "\tComputing scores for task: 9\n",
      "Computing scores for: simonyan_masked\n",
      "\tComputing scores for task: 0\n",
      "\tComputing scores for task: 1\n",
      "\tComputing scores for task: 2\n",
      "\tComputing scores for task: 3\n",
      "\tComputing scores for task: 4\n",
      "\tComputing scores for task: 5\n",
      "\tComputing scores for task: 6\n",
      "\tComputing scores for task: 7\n",
      "\tComputing scores for task: 8\n",
      "\tComputing scores for task: 9\n",
      "Computing scores for: grad_times_inp\n",
      "\tComputing scores for task: 0\n",
      "\tComputing scores for task: 1\n",
      "\tComputing scores for task: 2\n",
      "\tComputing scores for task: 3\n",
      "\tComputing scores for task: 4\n",
      "\tComputing scores for task: 5\n",
      "\tComputing scores for task: 6\n",
      "\tComputing scores for task: 7\n",
      "\tComputing scores for task: 8\n",
      "\tComputing scores for task: 9\n",
      "Computing scores for: integrated_grads_5\n",
      "\tComputing scores for task: 0\n",
      "\tComputing scores for task: 1\n",
      "\tComputing scores for task: 2\n",
      "\tComputing scores for task: 3\n",
      "\tComputing scores for task: 4\n",
      "\tComputing scores for task: 5\n",
      "\tComputing scores for task: 6\n",
      "\tComputing scores for task: 7\n",
      "\tComputing scores for task: 8\n",
      "\tComputing scores for task: 9\n",
      "Computing scores for: integrated_grads_10\n",
      "\tComputing scores for task: 0\n",
      "\tComputing scores for task: 1\n",
      "\tComputing scores for task: 2\n",
      "\tComputing scores for task: 3\n",
      "\tComputing scores for task: 4\n",
      "\tComputing scores for task: 5\n",
      "\tComputing scores for task: 6\n",
      "\tComputing scores for task: 7\n",
      "\tComputing scores for task: 8\n",
      "\tComputing scores for task: 9\n"
     ]
    }
   ],
   "source": [
    "from collections import OrderedDict\n",
    "method_to_task_to_scores = OrderedDict()\n",
    "print(\"HEADS UP! integrated_grads_5 and integrated_grads_10 take 5x and 10x longer to run respectively\")\n",
    "print(\"Consider leaving them out to get faster results\")\n",
    "for method_name, score_func in [\n",
    "                               ('revealcancel', revealcancel_func),\n",
    "                               ('guided_backprop_masked', guided_backprop_func_masked),\n",
    "                               ('guided_backprop_times_inp', guided_backprop_times_inp_func),\n",
    "                               ('simonyan_masked', simonyan_func_masked), \n",
    "                               ('grad_times_inp', grad_times_inp_func),\n",
    "                               ('integrated_grads_5', integrated_grads_5),\n",
    "                               ('integrated_grads_10', integrated_grads_10)\n",
    "]:\n",
    "    print(\"Computing scores for:\",method_name)\n",
    "    method_to_task_to_scores[method_name] = {}\n",
    "    for task_idx in range(10):\n",
    "        print(\"\\tComputing scores for task: \"+str(task_idx))\n",
    "        scores = np.array(score_func(\n",
    "                    task_idx=task_idx,\n",
    "                    input_data_list=[X_test],\n",
    "                    input_references_list=[np.zeros_like(X_test)],\n",
    "                    batch_size=1000,\n",
    "                    progress_update=None))\n",
    "        method_to_task_to_scores[method_name][task_idx] = scores"
   ]
  },
  {
   "cell_type": "markdown",
   "metadata": {
    "colab_type": "text",
    "id": "23GTyCPX_-jh"
   },
   "source": [
    "## Plot figures\n",
    "\n",
    "### Prepare various functions to aid in plotting"
   ]
  },
  {
   "cell_type": "code",
   "execution_count": 11,
   "metadata": {
    "colab": {
     "base_uri": "https://localhost:8080/",
     "height": 70
    },
    "colab_type": "code",
    "id": "JqHFk2Rz_-ji",
    "outputId": "184629c0-49de-4da7-840d-28a7b07d208e"
   },
   "outputs": [
    {
     "name": "stdout",
     "output_type": "stream",
     "text": [
      "WARNING:tensorflow:From /tensorflow-1.15.2/python3.6/keras/backend/tensorflow_backend.py:431: The name tf.is_variable_initialized is deprecated. Please use tf.compat.v1.is_variable_initialized instead.\n",
      "\n"
     ]
    }
   ],
   "source": [
    "%matplotlib inline\n",
    "import matplotlib.pyplot as plt\n",
    "import matplotlib.colors as colors\n",
    "from keras import backend as K\n",
    "\n",
    "\n",
    "#Function to plot scores of an MNIST figure\n",
    "def viz_scores(scores,ax):\n",
    "    reshaped_scores = scores.reshape(28,28)\n",
    "    the_min = np.min(reshaped_scores)\n",
    "    the_max = np.max(reshaped_scores)\n",
    "    center = 0.0\n",
    "    negative_vals = (reshaped_scores < 0.0)*reshaped_scores/(the_min + 10**-7)\n",
    "    positive_vals = (reshaped_scores > 0.0)*reshaped_scores/float(the_max)\n",
    "    reshaped_scores = -negative_vals + positive_vals\n",
    "    ax.imshow(-reshaped_scores, cmap=\"Greys\")\n",
    "    ax.set_xticks([])\n",
    "    ax.set_yticks([])\n",
    "\n",
    "#Function that masks out the top n pixels where the score for\n",
    "#task_1 is higher than the score for task_2\n",
    "def get_masked_image(idx, scores, task_1, task_2, n_to_erase):\n",
    "    difference = scores[task_1][idx].ravel() - scores[task_2][idx].ravel()\n",
    "    #highlight the top n\n",
    "    top_nth_threshold = max(sorted(difference, key=lambda x: -x)[n_to_erase],0.0)\n",
    "    thresholded_points = 1.0*(difference <= top_nth_threshold)\n",
    "    masked_inp = thresholded_points.reshape(28,28,1)*X_test[idx]\n",
    "    return masked_inp\n",
    "\n",
    "#Function to plot the result of masking on a single example, for converting\n",
    "#from task1->task2 and task1->task3\n",
    "def plot_two_way_figures(idx, task_1, task_2, task_3, method_names, n_to_erase):\n",
    "    print(\"example index: \"+str(idx))\n",
    "    print(\"Order of columns is:\",\"task \"+str(task_1)+\" scores\",\"task \"+str(task_2)+\" scores\",\n",
    "                                 str(task_1)+\"->\"+str(task_2)+\" masking\",\n",
    "                                 \"task \"+str(task_3)+\" scores\", str(task_1)+\"->\"+str(task_3)+\" masking\")\n",
    "    print(\"Order of the methods is: \"+\", \".join(str(x) for x in method_names))\n",
    "    for method_name in method_names:\n",
    "        scores = method_to_task_to_scores[method_name]\n",
    "        mean_scores_over_all_tasks = np.mean(np.array([scores[i][idx] for i in range(10)]), axis=0)\n",
    "        f, axarr = plt.subplots(1, 6, sharey=False, figsize=(15,10))\n",
    "        viz_scores(X_test[idx], axarr[0])      \n",
    "        viz_scores(scores[task_1][idx] - mean_scores_over_all_tasks, axarr[1])\n",
    "        viz_scores(scores[task_2][idx] - mean_scores_over_all_tasks, axarr[2])\n",
    "        viz_scores(get_masked_image(idx, scores, task_1, task_2, n_to_erase), axarr[3])\n",
    "        viz_scores(scores[task_3][idx] - mean_scores_over_all_tasks, axarr[4])\n",
    "        viz_scores(get_masked_image(idx, scores, task_1, task_3, n_to_erase), axarr[5])\n",
    "    plt.show()\n",
    "    \n",
    "#Function to compute change in log-odds scores after\n",
    "#pixels have been masked to convert from original_class to target_class\n",
    "def compute_delta_log_odds(X, y, predict_func, imp_scores,\n",
    "                           original_class, target_class,\n",
    "                           num_perturbations):\n",
    "    original_class_mask = y_test==original_class\n",
    "    X = np.compress(condition=original_class_mask,\n",
    "                    a=X,axis=0)\n",
    "    \n",
    "    \n",
    "    #compute log-odds of model for those two classes\n",
    "    predictions = np.array(deeplift.util.run_function_in_batches(predict_func,\n",
    "                                                        input_data_list=[X],\n",
    "                                                        batch_size=200, progress_update=None))\n",
    "    orig_log_odds = predictions[:,original_class] - predictions[:,target_class]\n",
    "    #make num_perturbations to move from original_class\n",
    "    #to target_class according to imp_scores\n",
    "    #first, get the difference of imp_scores for the two classes\n",
    "    diff_of_scores = (np.compress(original_class_mask, imp_scores[original_class].reshape((-1, 784)), axis=0) - \n",
    "                      np.compress(original_class_mask, imp_scores[target_class].reshape((-1, 784)), axis=0))\n",
    "    modified_inp = []\n",
    "    #then, for each example, sort the scores and zero out indices\n",
    "    for inp, diff_of_scores in zip(X, diff_of_scores):\n",
    "        top_nth_threshold = max(sorted(diff_of_scores, key=lambda x: -x)[num_perturbations], 0.0)\n",
    "        thresholded_points = 1.0*(diff_of_scores <= top_nth_threshold)\n",
    "        modified_inp.append(thresholded_points.reshape(28,28,1)*inp)\n",
    "    modified_inp = np.array(modified_inp)\n",
    "    \n",
    "    #assess change in log-odds for the modified images\n",
    "    new_predictions = np.array(deeplift.util.run_function_in_batches(predict_func,\n",
    "                                                        input_data_list=[modified_inp],\n",
    "                                                        batch_size=200, progress_update=None))\n",
    "    new_log_odds = new_predictions[:,original_class] - new_predictions[:,target_class]\n",
    "    to_return = orig_log_odds - new_log_odds\n",
    "    return (to_return,\n",
    "            sum(new_log_odds < 0.0)/float(len(new_log_odds)),\n",
    "            new_predictions[:,[original_class, target_class]],\n",
    "            predictions[:,[original_class, target_class]])\n",
    "\n",
    "#pre_softmax_func computes the output of the linear layer preceding the\n",
    "#Final softmax noninearity\n",
    "pre_softmax_func_inner = K.function([keras_model.input, K.learning_phase()],\n",
    "                                    [keras_model.layers[-2].output])\n",
    "pre_softmax_func = lambda x: pre_softmax_func_inner(x+[False])[0]\n",
    "\n",
    "def barplot_scores(original_class, target_class, method_names_and_short_names, n_to_erase):\n",
    "    print(\"converting: \"+str(original_class)+\"->\"+str(target_class))\n",
    "    method_names = [x[0] for x in method_names_and_short_names]\n",
    "    short_names = [x[1] for x in method_names_and_short_names]\n",
    "    original_class_mask = y_test==original_class\n",
    "    scores_to_plot = []\n",
    "    fig, ax = plt.subplots(figsize=(2*len(method_names),5))\n",
    "    for method_name in method_names:\n",
    "        logodds_diff, flipped, new_predictions, old_predictions = compute_delta_log_odds(\n",
    "                                                                     X=X_test, y=y_test,\n",
    "                                                                     predict_func=pre_softmax_func,\n",
    "                                                                     imp_scores=method_to_task_to_scores[method_name],\n",
    "                                                                     original_class=original_class,\n",
    "                                                                     target_class=target_class,\n",
    "                                                                     num_perturbations=n_to_erase)\n",
    "        #figure out indices with big shifts\n",
    "        retained_indices = np.compress(condition=original_class_mask, a=np.arange(len(y_test)))\n",
    "        \n",
    "        #sorted_shifts\n",
    "        sorted_shifts = sorted(enumerate(zip(logodds_diff,new_predictions,old_predictions)), key=lambda x: -x[1][0])\n",
    "        print(\"top indices for \"+str(method_name)+\": \"+\" \".join([str(retained_indices[x[0]]) for x in sorted_shifts[:10]]))\n",
    "        scores_to_plot.append(logodds_diff)\n",
    "    ax.boxplot(scores_to_plot, widths=[0.5 for x in method_names])\n",
    "    ax.set_ylim(-1000,17000)\n",
    "    ax.set_ylabel(\"Change in log-odds\")\n",
    "    ax.set_xticklabels(short_names)\n",
    "    plt.title(str(original_class)+\" --> \"+str(target_class), fontsize=24)\n",
    "    plt.tick_params(labelsize=17)\n",
    "    plt.show()"
   ]
  },
  {
   "cell_type": "markdown",
   "metadata": {
    "colab_type": "text",
    "id": "b3ojXfSJ_-jk"
   },
   "source": [
    "### Plot scores and result of masking on a single example\n",
    "The example selected had the highest change in log-odds for 8->3 and second-highest for 8->6 according to grad_times_inp and integrated_gradients"
   ]
  },
  {
   "cell_type": "code",
   "execution_count": 12,
   "metadata": {
    "colab": {
     "base_uri": "https://localhost:8080/",
     "height": 751
    },
    "colab_type": "code",
    "id": "201D84IQ_-jl",
    "outputId": "a7de3292-3f6a-4f25-d7ff-f68050b7e577"
   },
   "outputs": [
    {
     "name": "stdout",
     "output_type": "stream",
     "text": [
      "example index: 5846\n",
      "Order of columns is: task 8 scores task 3 scores 8->3 masking task 6 scores 8->6 masking\n",
      "Order of the methods is: simonyan_masked, guided_backprop_masked, grad_times_inp, integrated_grads_5, revealcancel\n"
     ]
    },
    {
     "data": {
      "image/png": "[encoded data removed]",
      "text/plain": [
       "<Figure size 1080x720 with 6 Axes>"
      ]
     },
     "metadata": {
      "tags": []
     },
     "output_type": "display_data"
    },
    {
     "data": {
      "image/png": "[encoded data removed]",
      "text/plain": [
       "<Figure size 1080x720 with 6 Axes>"
      ]
     },
     "metadata": {
      "tags": []
     },
     "output_type": "display_data"
    },
    {
     "data": {
      "image/png": "[encoded data removed]",
      "text/plain": [
       "<Figure size 1080x720 with 6 Axes>"
      ]
     },
     "metadata": {
      "tags": []
     },
     "output_type": "display_data"
    },
    {
     "data": {
      "image/png": "[encoded data removed]",
      "text/plain": [
       "<Figure size 1080x720 with 6 Axes>"
      ]
     },
     "metadata": {
      "tags": []
     },
     "output_type": "display_data"
    },
    {
     "data": {
      "image/png": "[encoded data removed]",
      "text/plain": [
       "<Figure size 1080x720 with 6 Axes>"
      ]
     },
     "metadata": {
      "tags": []
     },
     "output_type": "display_data"
    }
   ],
   "source": [
    "n_to_erase=157\n",
    "method_names = ['simonyan_masked', 'guided_backprop_masked', 'grad_times_inp', 'integrated_grads_5', 'revealcancel']\n",
    "plot_two_way_figures(5846,8,3,6,method_names,n_to_erase)"
   ]
  },
  {
   "cell_type": "markdown",
   "metadata": {
    "colab_type": "text",
    "id": "5BiCrWwm_-jn"
   },
   "source": [
    "### Plot change in log-odds across all examples in the test set"
   ]
  },
  {
   "cell_type": "code",
   "execution_count": 13,
   "metadata": {
    "colab": {
     "base_uri": "https://localhost:8080/",
     "height": 1000
    },
    "colab_type": "code",
    "id": "aL4wSF_E_-jo",
    "outputId": "8fac9ca5-72ff-42a5-aa40-c5787b3d118a",
    "scrolled": false
   },
   "outputs": [
    {
     "name": "stdout",
     "output_type": "stream",
     "text": [
      "converting: 8->3\n",
      "top indices for simonyan_masked: 6654 6816 2774 5226 5803 3892 8669 7034 9516 8547\n",
      "top indices for guided_backprop_masked: 5846 5797 5650 8437 8157 2774 9516 6654 3807 7450\n",
      "top indices for guided_backprop_times_inp: 5846 5797 5650 8437 8157 2774 9516 6654 3807 7450\n",
      "top indices for grad_times_inp: 5846 8157 5797 6654 9917 8015 6435 9516 6212 8440\n",
      "top indices for integrated_grads_5: 5846 8157 6654 5797 8015 9917 6435 9516 6212 8440\n",
      "top indices for integrated_grads_10: 5846 8157 6654 5797 8015 9917 6435 6212 8440 8249\n",
      "top indices for revealcancel: 5846 9917 8157 8547 9574 8437 5797 8872 8466 9516\n"
     ]
    },
    {
     "data": {
      "image/png": "[encoded data removed]",
      "text/plain": [
       "<Figure size 1008x360 with 1 Axes>"
      ]
     },
     "metadata": {
      "needs_background": "light",
      "tags": []
     },
     "output_type": "display_data"
    },
    {
     "name": "stdout",
     "output_type": "stream",
     "text": [
      "converting: 8->6\n",
      "top indices for simonyan_masked: 5846 9516 8223 3892 260 9609 2895 5003 1443 9055\n",
      "top indices for guided_backprop_masked: 2470 5846 9609 9516 4246 1118 8300 1074 8009 2895\n",
      "top indices for guided_backprop_times_inp: 2470 5846 9609 9516 4246 1118 8300 1074 8009 2895\n",
      "top indices for grad_times_inp: 5857 5846 2470 9516 1118 9609 4246 2451 8985 8965\n",
      "top indices for integrated_grads_5: 5857 5846 2470 1118 9516 9609 4246 2451 8985 5864\n",
      "top indices for integrated_grads_10: 5857 5846 9516 2470 1118 9609 4246 2451 8985 5864\n",
      "top indices for revealcancel: 2470 5857 2213 1118 2451 4246 5864 5846 9516 3829\n"
     ]
    },
    {
     "data": {
      "image/png": "[encoded data removed]",
      "text/plain": [
       "<Figure size 1008x360 with 1 Axes>"
      ]
     },
     "metadata": {
      "needs_background": "light",
      "tags": []
     },
     "output_type": "display_data"
    },
    {
     "name": "stdout",
     "output_type": "stream",
     "text": [
      "converting: 9->1\n",
      "top indices for simonyan_masked: 7827 58 1793 2257 8590 5386 4610 5523 1787 5289\n",
      "top indices for guided_backprop_masked: 5289 5587 2263 3008 8457 6302 6230 2892 481 5523\n",
      "top indices for guided_backprop_times_inp: 5289 5587 2263 3008 8457 6302 6230 2892 481 5523\n",
      "top indices for grad_times_inp: 3287 2341 99 3008 6302 5523 5587 7347 2263 1793\n",
      "top indices for integrated_grads_5: 3287 2341 99 3008 6302 5523 5587 7347 2263 1793\n",
      "top indices for integrated_grads_10: 3287 2341 99 3008 6302 5523 5587 7347 2263 1793\n",
      "top indices for revealcancel: 2263 6302 3885 5377 1793 8457 5587 9079 4835 8782\n"
     ]
    },
    {
     "data": {
      "image/png": "[encoded data removed]",
      "text/plain": [
       "<Figure size 1008x360 with 1 Axes>"
      ]
     },
     "metadata": {
      "needs_background": "light",
      "tags": []
     },
     "output_type": "display_data"
    },
    {
     "name": "stdout",
     "output_type": "stream",
     "text": [
      "converting: 4->1\n",
      "top indices for simonyan_masked: 3397 9866 8925 5816 2889 1529 8802 2256 6861 6475\n",
      "top indices for guided_backprop_masked: 3752 2889 3397 2256 9861 3819 3357 9866 1529 5294\n",
      "top indices for guided_backprop_times_inp: 3752 2889 3397 2256 9861 3819 3357 9866 1529 5294\n",
      "top indices for grad_times_inp: 3752 2256 3357 3397 9873 5191 7629 9861 3819 3500\n",
      "top indices for integrated_grads_5: 3752 3357 2256 3397 9873 3819 7629 8886 9861 2889\n",
      "top indices for integrated_grads_10: 3752 3357 2256 3397 9873 3819 7629 8886 9861 2889\n",
      "top indices for revealcancel: 2256 762 9873 1529 2145 2889 5294 3752 3357 3500\n"
     ]
    },
    {
     "data": {
      "image/png": "[encoded data removed]",
      "text/plain": [
       "<Figure size 1008x360 with 1 Axes>"
      ]
     },
     "metadata": {
      "needs_background": "light",
      "tags": []
     },
     "output_type": "display_data"
    }
   ],
   "source": [
    "method_names_and_short_names = [\n",
    "    ('simonyan_masked', '|grad|\\n(Simonyan)'),\n",
    "    ('guided_backprop_masked', 'Guided\\nBackprop'),\n",
    "    ('guided_backprop_times_inp', 'GBP*in'),\n",
    "    ('grad_times_inp', 'gradient\\n*input'),\n",
    "    ('integrated_grads_5', 'integrated\\ngrads-5'),\n",
    "    ('integrated_grads_10', 'integrated\\ngrads-10'),\n",
    "    ('revealcancel', 'DeepLIFT-\\nRevealCancel'),\n",
    "]\n",
    "\n",
    "barplot_scores(8,3,method_names_and_short_names, n_to_erase)\n",
    "barplot_scores(8,6,method_names_and_short_names, n_to_erase)\n",
    "barplot_scores(9,1,method_names_and_short_names, n_to_erase)\n",
    "barplot_scores(4,1,method_names_and_short_names, n_to_erase)"
   ]
  },
  {
   "cell_type": "code",
   "execution_count": 13,
   "metadata": {
    "colab": {},
    "colab_type": "code",
    "id": "utb_vMI2_-jq"
   },
   "outputs": [],
   "source": []
  }
 ],
 "metadata": {
  "accelerator": "GPU",
  "colab": {
   "name": "MNIST_replicate_figures.ipynb",
   "provenance": []
  },
  "kernelspec": {
   "display_name": "Python 3 (ipykernel)",
   "language": "python",
   "name": "python3"
  },
  "language_info": {
   "codemirror_mode": {
    "name": "ipython",
    "version": 3
   },
   "file_extension": ".py",
   "mimetype": "text/x-python",
   "name": "python",
   "nbconvert_exporter": "python",
   "pygments_lexer": "ipython3",
   "version": "3.7.11"
  }
 },
 "nbformat": 4,
 "nbformat_minor": 1
}