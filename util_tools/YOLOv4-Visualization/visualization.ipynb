{
 "cells": [
  {
   "cell_type": "code",
   "execution_count": 6,
   "metadata": {},
   "outputs": [],
   "source": [
    "import matplotlib.pyplot as plt\n",
    "import numpy as np"
   ]
  },
  {
   "cell_type": "code",
   "execution_count": 7,
   "metadata": {},
   "outputs": [],
   "source": [
    "file1 = open('nohup.out', 'r')\n",
    "\n",
    "total_val_yaxis = []\n",
    "conf_val_yaxis=[]\n",
    "substring = \"total_val_loss\"\n",
    "for i in range(18000): \n",
    "    line = file1.readline()\n",
    "    if substring in line:\n",
    "        contents = line.split(\" \")\n",
    "        #index=line.find(substring,0)\n",
    "        #line[80:90]\n",
    "        total_val_loss = float(line.split(\" \")[-1].strip())\n",
    "#         conf_val_loss= line.split(\" \")[7].strip()\n",
    "#         conf_val_loss = float(conf_val_loss[:-1])\n",
    "        total_val_yaxis.append(total_val_loss)\n",
    "#         conf_val_yaxis.append(conf_val_loss)"
   ]
  },
  {
   "cell_type": "code",
   "execution_count": null,
   "metadata": {},
   "outputs": [],
   "source": [
    "# define data values\n",
    "xaxis = [i for i in range(1, 307)]\n",
    "# yaxis = [total_val_yaxis[i] for i in xaxis]\n",
    "plt.figure(figsize=(30,10),dpi=1000)\n",
    "plt.ylim(0, 100)\n",
    "plt.plot(xaxis, total_val_yaxis, label = \"line 1\", linewidth = 5)  # Plot the chart\n",
    "plt.xlabel('epochs', fontsize=32)\n",
    "plt.ylabel('loss', fontsize=32)\n",
    "plt.title('loss vs epochs',fontsize=36)\n",
    "plt.rc('xtick',labelsize=28)\n",
    "plt.rc('ytick',labelsize=28)\n",
    "plt.show()  # display\n",
    "print(xaxis)\n",
    "print(len(total_val_yaxis))"
   ]
  },
  {
   "cell_type": "code",
   "execution_count": 4,
   "metadata": {
    "scrolled": true
   },
   "outputs": [
    {
     "data": {
      "text/plain": [
       "Text(0.5, 1.0, 'Yolov4 Precision-Recall curve')"
      ]
     },
     "execution_count": 4,
     "metadata": {},
     "output_type": "execute_result"
    },
    {
     "data": {
      "image/png": "[encoded data removed]",
      "text/plain": [
       "<Figure size 432x288 with 1 Axes>"
      ]
     },
     "metadata": {
      "needs_background": "light"
     },
     "output_type": "display_data"
    }
   ],
   "source": [
    "from sklearn.metrics import precision_recall_curve\n",
    "from sklearn.metrics import PrecisionRecallDisplay\n",
    "precisions = [0.8450458930473155, 0.8247103548930376, 0.804820943895024, 0.7743250204207853, 0.7357593541718245, \n",
    "              0.6893462227058267, \n",
    "              0.6305263158059204, 0.546152837801982, 0.46306074602151215]\n",
    "recalls = [0.6623588829471172, 0.6775655326268811, 0.6909485023646861, 0.7093554593554581, \n",
    "           0.7302348125807827, 0.7579357625845194, 0.7824221233312093,0.8120510279910789, \n",
    "            0.8561224489795903]\n",
    "# plt.plot(recalls, precisions)\n",
    "\n",
    "display = PrecisionRecallDisplay(\n",
    "    recall=recalls,\n",
    "    precision=precisions\n",
    ")\n",
    "\n",
    "display.plot()\n",
    "display.ax_.set_title(\"Yolov4 Precision-Recall curve\")"
   ]
  },
  {
   "cell_type": "code",
   "execution_count": null,
   "metadata": {},
   "outputs": [],
   "source": []
  }
 ],
 "metadata": {
  "kernelspec": {
   "display_name": "Python 3",
   "language": "python",
   "name": "python3"
  },
  "language_info": {
   "codemirror_mode": {
    "name": "ipython",
    "version": 3
   },
   "file_extension": ".py",
   "mimetype": "text/x-python",
   "name": "python",
   "nbconvert_exporter": "python",
   "pygments_lexer": "ipython3",
   "version": "3.7.3"
  }
 },
 "nbformat": 4,
 "nbformat_minor": 2
}
